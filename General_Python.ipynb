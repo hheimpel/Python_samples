{
 "cells": [
  {
   "cell_type": "markdown",
   "metadata": {},
   "source": [
    "# General Python Guideline\n",
    "\n",
    "## 1) Data Structures\n",
    "\n",
    "### Tuples\n",
    "\n",
    "Tuples are immutable as opposed to lists. You cannot change values in the index without creating a new tuple.\n",
    "\n",
    "### 1.1) Lists\n",
    "\n",
    "Useful operations on lists"
   ]
  },
  {
   "cell_type": "code",
   "execution_count": 11,
   "metadata": {},
   "outputs": [
    {
     "data": {
      "text/plain": [
       "[5, 6, 7]"
      ]
     },
     "execution_count": 11,
     "metadata": {},
     "output_type": "execute_result"
    }
   ],
   "source": [
    "a = [1,2,3]\n",
    "a.append(\"a\") # append at last position\n",
    "a.extend([4,5,6]) # = a + [4,5,6]\n",
    "a.pop() # delete last position\n",
    "a.remove(1) # removes 1 and pops it --> [2,3,”a”]\n",
    "a[0], a[1] = a[1], a[0] # swap positions\n",
    "len(a) #length of the list\n",
    "a.index(3) # returns 2, the position of 3 (if repeated elements it returns the first instance)\n",
    "\n",
    "ls = [[1,2],[3,4]]\n",
    "ls[0][0] # refers to first element of first list\n",
    "list(range(5,8)) #[5,6,7]\n"
   ]
  },
  {
   "cell_type": "markdown",
   "metadata": {},
   "source": [
    "List comprehension (for loops inside lists for easier code)"
   ]
  },
  {
   "cell_type": "code",
   "execution_count": 15,
   "metadata": {},
   "outputs": [
    {
     "name": "stdout",
     "output_type": "stream",
     "text": [
      "[1, 2, 3]\n",
      "[1, 'a', 2, 2, 3]\n"
     ]
    }
   ],
   "source": [
    "lst = [1,2]\n",
    "lst = [x + i for x in lst for i in range(2)] # [1,2,2,3]\n",
    "d = []\n",
    "[d.append(x) for x in lst if x not in d] # unique elements of other_list\n",
    "print(d)\n",
    "print(lst[0:1] + [\"a\"] + lst[1:]) # append at specific location in list (location 1 in this case)\n",
    "\n",
    "#[f(x) if condition else g(x) for x in sequence] → two functions for if else\n"
   ]
  },
  {
   "cell_type": "markdown",
   "metadata": {},
   "source": [
    "For parallel iteration between lists use zip"
   ]
  },
  {
   "cell_type": "code",
   "execution_count": 17,
   "metadata": {},
   "outputs": [
    {
     "name": "stdout",
     "output_type": "stream",
     "text": [
      "[(1, 'a'), (2, 'b'), (3, 'c')]\n",
      "1 a\n",
      "2 b\n",
      "3 c\n"
     ]
    }
   ],
   "source": [
    "a = [1,2,3]\n",
    "b =[\"a\",\"b\",\"c\"]\n",
    "print(list(zip(a,b)))\n",
    "\n",
    "for e1,e2 in zip(a,b):\n",
    "    print(e1,e2)"
   ]
  },
  {
   "cell_type": "markdown",
   "metadata": {},
   "source": [
    "Enumerate a list if you need the index of an element and the element"
   ]
  },
  {
   "cell_type": "code",
   "execution_count": 20,
   "metadata": {},
   "outputs": [
    {
     "name": "stdout",
     "output_type": "stream",
     "text": [
      "[(0, 'a'), (1, 'b'), (2, 'c')]\n",
      "0 a\n",
      "1 b\n",
      "2 c\n"
     ]
    }
   ],
   "source": [
    "print(list(enumerate([\"a\",\"b\",\"c\"]))) #Notice it's the same as zipping [0,1,2] and [\"a\",\"b\",\"c\"]\n",
    "for i,x in enumerate([\"a\",\"b\",\"c\"]):\n",
    "    print(i,x)"
   ]
  },
  {
   "cell_type": "markdown",
   "metadata": {},
   "source": [
    "Nested lists: it's generally a good idea to use recursion when you have undetermined number of nests. For example imagine we want to change all the elements in a nested list such that:"
   ]
  },
  {
   "cell_type": "code",
   "execution_count": 102,
   "metadata": {},
   "outputs": [
    {
     "data": {
      "text/plain": [
       "[0, [[0, 0]], [0]]"
      ]
     },
     "execution_count": 102,
     "metadata": {},
     "output_type": "execute_result"
    }
   ],
   "source": [
    "# [1,[[1,1]],[1]] --> [0,[[0,0]],[0]]\n",
    "\n",
    "def nested_list(original):\n",
    "    for element in original:\n",
    "        if type(element) is not list:\n",
    "            original[original.index(element)] = 0\n",
    "        else:\n",
    "            nested_list(element)\n",
    "    return original\n",
    "\n",
    "nested_list([1,[[1,1]],[1]])    "
   ]
  },
  {
   "cell_type": "markdown",
   "metadata": {},
   "source": [
    "### 1.2) Dictionaries\n",
    "\n",
    "Hash tables → store items, delete and search on average in the fastest way. \n",
    "\n",
    "How do hash tables work? Imagine you have an array,how would you do search fastly? \n",
    "\n",
    "Imagine array [0,1,2,3,4, None, 6]: → Is 3 in the array? \n",
    "\n",
    "if array[2] == 3: return (\"YES\") \n",
    "    \n",
    "Is 5 in the array? → \n",
    "\n",
    "if array[4] == 5 : returns (\"YES\")\n",
    "else : return (\"NO)\n",
    "\n",
    "This is all done in constant time because you know where the exact location of the element should be; this is aasy if your keys are limited and small, not so easy if they are not (imagine a string with 8 letters you have 27^8 possible keys). You're not going to fill a dictionary with 27^8 empty keys.\n",
    "\n",
    "What if you have strings and not integers as keys? Do prehashing → map strings to non negative integers. “Aaa” -> 1 “aab” → 2.\n",
    "\n",
    "How do you reduce space of possible keys?\n",
    "\n",
    "Reduce from the space of possible keys to m (size of the table) through a hashing function.\n",
    "\n",
    "CHAINING is one method: Linked list of possible keys that collide, so worst case you have O(n). Under randomization you can map pretty evenly, a one to one relationship. Assume uniformity and independence between where keys map.\n"
   ]
  },
  {
   "cell_type": "code",
   "execution_count": 49,
   "metadata": {},
   "outputs": [
    {
     "name": "stdout",
     "output_type": "stream",
     "text": [
      "{'a': 1}\n",
      "{'A': 1, 'B': 2, 'C': 3}\n",
      "A 1\n",
      "B 2\n",
      "C 3\n",
      "Approach 1 (inefficient): 10\n",
      "Approach 2 (efficient): 10\n"
     ]
    }
   ],
   "source": [
    "# Appending to a dictionary\n",
    "\n",
    "d = {}\n",
    "d[\"a\"] = 1\n",
    "print(d)\n",
    "\n",
    "# Join two lists to create a dictionary\n",
    "\n",
    "a = [\"A\",\"B\",\"C\"]\n",
    "b = [1,2,3]\n",
    "print(dict(zip(a,b)))\n",
    "\n",
    "# Iterate over keys\n",
    "\n",
    "for key,value in dict(zip(a,b)).items():\n",
    "    print(key,value)\n",
    "    \n",
    "# If you want to get the maximum over the values of a dictionary\n",
    "\n",
    "d = {\"A\":2,\"B\":7,\"C\":10}\n",
    "\n",
    "# 1.\n",
    "\n",
    "print(\"Approach 1 (inefficient):\", max(d.items(),key = lambda t: t[1])[1])\n",
    "\n",
    "#2. for a faster approach\n",
    "\n",
    "import operator\n",
    "print(\"Approach 2 (efficient):\", max(d.items(), key=operator.itemgetter(1))[1])\n"
   ]
  },
  {
   "cell_type": "markdown",
   "metadata": {},
   "source": [
    "### 1.3) Collections\n",
    "\n",
    "High-performance container datatypes\n",
    "\n",
    "#### 1.3.1) Deques\n",
    "\n",
    "For fast pop and append data structure (since lists are optimized for fixed length operations changing it requires an O(n) change in memory). "
   ]
  },
  {
   "cell_type": "code",
   "execution_count": 23,
   "metadata": {},
   "outputs": [
    {
     "name": "stdout",
     "output_type": "stream",
     "text": [
      "deque([1, 2, 3, 4])\n",
      "deque([0, 1, 2, 3, 4])\n",
      "deque([])\n",
      "Number of times 1 appears: 3\n"
     ]
    }
   ],
   "source": [
    "from collections import deque\n",
    "\n",
    "deq = deque([1,2,3])\n",
    "\n",
    "#METHODS FOR DEQUE\n",
    "\n",
    "deq.append(4) # Add x to the right side of the deque.\n",
    "print(deq)\n",
    "deq.appendleft(0) # Add x to the left side of the deque.\n",
    "print(deq)\n",
    "deq.clear() #Remove all elements from the deque leaving it with length 0.\n",
    "print(deq)\n",
    "\n",
    "deq = deque([1,1,1,2,2,3])\n",
    "print(\"Number of times 1 appears:\",deq.count(1)) # Count the number of deque elements equal to 1.\n",
    "\n",
    "deq.pop() #Remove and return an element from the right side of the deque. If no elements are present, raises an IndexError.\n",
    "deq.popleft() #Remove and return an element from the left side of the deque. If no elements are present, raises an IndexError.\n",
    "deq.remove(2) #Remove the first occurrence of value. If not found, raises a ValueError.\n",
    "deq.reverse() #Reverse the elements of the deque in-place and then return None."
   ]
  },
  {
   "cell_type": "markdown",
   "metadata": {},
   "source": [
    "#### 1.3.2) Counters\n",
    "\n",
    "A Counter is a dict subclass for counting hashable objects. It is an unordered collection where elements are stored as dictionary keys and their counts are stored as dictionary values. Counts are allowed to be any integer value including zero or negative counts.\n",
    "\n",
    "It also allows for set operations, union, intersection, subtracting and adding."
   ]
  },
  {
   "cell_type": "code",
   "execution_count": 36,
   "metadata": {},
   "outputs": [
    {
     "name": "stdout",
     "output_type": "stream",
     "text": [
      "Subtracting odds from natural: Counter({2: 1, 4: 1, 6: 1, 8: 1})\n",
      "Set1: ['h', 'j', 'a']\n",
      "Set2: ['h', 'k', 'a', 'g']\n",
      "Intersection Set1 & Set2: ['h', 'a']\n"
     ]
    },
    {
     "data": {
      "text/plain": [
       "[('a', 3), ('c', 2)]"
      ]
     },
     "execution_count": 36,
     "metadata": {},
     "output_type": "execute_result"
    }
   ],
   "source": [
    "from collections import Counter\n",
    "\n",
    "natural = Counter(range(1,10)) \n",
    "odds = Counter([1,3,5,7,9])\n",
    "even = natural-odds\n",
    "print(\"Subtracting odds from natural:\", even)\n",
    "ca = Counter([\"h\",\"j\",\"a\"])\n",
    "cb = Counter([\"h\",\"k\",\"a\",\"g\"])\n",
    "print(\"Set1:\", list(ca.elements()))\n",
    "print(\"Set2:\", list(cb.elements()))\n",
    "cint = ca & cb\n",
    "print(\"Intersection Set1 & Set2:\", list(cint.elements()))\n",
    "\n",
    "# ADDITIONAL METHODS TO DICTIONARY\n",
    "\n",
    "ca.elements() # Return an iterator over elements repeating each as many times as its count. Elements are returned in arbitrary order.\n",
    "ca = Counter([\"a\",\"a\",\"a\",\"b\",\"c\",\"c\"])\n",
    "ca.most_common(2) "
   ]
  },
  {
   "cell_type": "markdown",
   "metadata": {},
   "source": [
    "#### 1.3.3) Ordered Dicts\n",
    "\n",
    "Ordered dictionaries are just like regular dictionaries but they remember the order that items were inserted. When iterating over an ordered dictionary, the items are returned in the order their keys were first added."
   ]
  },
  {
   "cell_type": "code",
   "execution_count": 8,
   "metadata": {},
   "outputs": [
    {
     "data": {
      "text/plain": [
       "OrderedDict([('apple', 4), ('banana', 3), ('orange', 2), ('pear', 1)])"
      ]
     },
     "execution_count": 8,
     "metadata": {},
     "output_type": "execute_result"
    }
   ],
   "source": [
    "from collections import OrderedDict\n",
    "\n",
    "d = {'banana': 3, 'apple': 4, 'pear': 1, 'orange': 2}\n",
    "OrderedDict(sorted(d.items(), key=lambda t: t[0])) # Sort by alphabet"
   ]
  },
  {
   "cell_type": "markdown",
   "metadata": {},
   "source": [
    "#### 1.3.4) Default Dicts\n",
    "\n",
    "When the values in a dictionary are collections (lists, dicts, etc.) the value (an empty list or dict) must be initialized the first time a given key is used. While this is relatively easy to do manually, the defaultdict type automates and simplifies these kinds of operations.\n",
    "\n",
    "A defaultdict works exactly like a normal dict, but it is initialized with a function (“default factory”) that takes no arguments and provides the default value for a nonexistent key.\n",
    "\n",
    "A defaultdict will never raise a KeyError. Any key that does not exist gets the value returned by the default factory."
   ]
  },
  {
   "cell_type": "code",
   "execution_count": 28,
   "metadata": {},
   "outputs": [
    {
     "name": "stdout",
     "output_type": "stream",
     "text": [
      "Default Dict\n",
      "Chunky Monkey\n",
      "Vanilla\n",
      "\n",
      "Regular Dict\n",
      "Sarah : Chunky Monkey\n",
      "Joe : Key Error was raised\n"
     ]
    }
   ],
   "source": [
    "from collections import defaultdict\n",
    "\n",
    "print(\"Default Dict\")\n",
    "ice_cream = defaultdict(lambda: 'Vanilla')\n",
    "ice_cream['Sarah'] = 'Chunky Monkey'\n",
    "ice_cream['Abdul'] = 'Butter Pecan'\n",
    "print(ice_cream['Sarah'])\n",
    "print(ice_cream['Joe'])\n",
    "\n",
    "ic = {\"Sarah\" : \"Chunky Monkey\",\n",
    "     \"Abdul\" : \"Butter Pecan\"}\n",
    "\n",
    "print(\"\")\n",
    "print(\"Regular Dict\")\n",
    "for elem in [\"Sarah\", \"Joe\"]:\n",
    "    try:\n",
    "        print(elem, \":\", ic[elem])\n",
    "    except KeyError:\n",
    "        print(elem, \":\", \"Key Error was raised\")"
   ]
  },
  {
   "cell_type": "markdown",
   "metadata": {},
   "source": [
    "### 1.4) Binary heaps\n",
    "\n",
    "Data structure which allows easy extraction of mins or maxs.\n",
    "\n",
    "A heap is a binary tree in which each node has a smaller key than its children; this property is called the heap property or heap invariant.\n",
    "\n",
    "To implement DELETE-MIN, we can easily find the value to return at the top of the heap. Unfortunately, removing it leaves a vacuum that must be filled in by some other element. The easiest way to do this is to grab a leaf (which probably has a very high key), and then float it down to where it belongs by swapping it with its SMALLEST child at each iteration. After time proportional to the depth, the heap invariant is restored.\n",
    "\n",
    "To push a new element you start at the next position available, compare with parent and swap if necessary."
   ]
  },
  {
   "cell_type": "code",
   "execution_count": 1,
   "metadata": {},
   "outputs": [
    {
     "name": "stdout",
     "output_type": "stream",
     "text": [
      "Tree with heap invariant property\n"
     ]
    },
    {
     "data": {
      "image/svg+xml": [
       "<?xml version=\"1.0\" encoding=\"UTF-8\" standalone=\"no\"?>\r\n",
       "<!DOCTYPE svg PUBLIC \"-//W3C//DTD SVG 1.1//EN\"\r\n",
       " \"http://www.w3.org/Graphics/SVG/1.1/DTD/svg11.dtd\">\r\n",
       "<!-- Generated by graphviz version 2.38.0 (20140413.2041)\r\n",
       " -->\r\n",
       "<!-- Title: %3 Pages: 1 -->\r\n",
       "<svg width=\"350pt\" height=\"260pt\"\r\n",
       " viewBox=\"0.00 0.00 350.00 260.00\" xmlns=\"http://www.w3.org/2000/svg\" xmlns:xlink=\"http://www.w3.org/1999/xlink\">\r\n",
       "<g id=\"graph0\" class=\"graph\" transform=\"scale(1 1) rotate(0) translate(4 256)\">\r\n",
       "<title>%3</title>\r\n",
       "<polygon fill=\"white\" stroke=\"none\" points=\"-4,4 -4,-256 346,-256 346,4 -4,4\"/>\r\n",
       "<!-- 1 -->\r\n",
       "<g id=\"node1\" class=\"node\"><title>1</title>\r\n",
       "<ellipse fill=\"none\" stroke=\"black\" cx=\"207\" cy=\"-234\" rx=\"27\" ry=\"18\"/>\r\n",
       "<text text-anchor=\"middle\" x=\"207\" y=\"-230.3\" font-family=\"Times New Roman,serif\" font-size=\"14.00\">1</text>\r\n",
       "</g>\r\n",
       "<!-- 2 -->\r\n",
       "<g id=\"node2\" class=\"node\"><title>2</title>\r\n",
       "<ellipse fill=\"none\" stroke=\"black\" cx=\"171\" cy=\"-162\" rx=\"27\" ry=\"18\"/>\r\n",
       "<text text-anchor=\"middle\" x=\"171\" y=\"-158.3\" font-family=\"Times New Roman,serif\" font-size=\"14.00\">2</text>\r\n",
       "</g>\r\n",
       "<!-- 1&#45;&gt;2 -->\r\n",
       "<g id=\"edge1\" class=\"edge\"><title>1&#45;&gt;2</title>\r\n",
       "<path fill=\"none\" stroke=\"black\" d=\"M198.65,-216.765C194.288,-208.283 188.853,-197.714 183.959,-188.197\"/>\r\n",
       "<polygon fill=\"black\" stroke=\"black\" points=\"186.99,-186.439 179.304,-179.147 180.765,-189.641 186.99,-186.439\"/>\r\n",
       "</g>\r\n",
       "<!-- 3 -->\r\n",
       "<g id=\"node3\" class=\"node\"><title>3</title>\r\n",
       "<ellipse fill=\"none\" stroke=\"black\" cx=\"243\" cy=\"-162\" rx=\"27\" ry=\"18\"/>\r\n",
       "<text text-anchor=\"middle\" x=\"243\" y=\"-158.3\" font-family=\"Times New Roman,serif\" font-size=\"14.00\">3</text>\r\n",
       "</g>\r\n",
       "<!-- 1&#45;&gt;3 -->\r\n",
       "<g id=\"edge2\" class=\"edge\"><title>1&#45;&gt;3</title>\r\n",
       "<path fill=\"none\" stroke=\"black\" d=\"M215.35,-216.765C219.712,-208.283 225.147,-197.714 230.041,-188.197\"/>\r\n",
       "<polygon fill=\"black\" stroke=\"black\" points=\"233.235,-189.641 234.696,-179.147 227.01,-186.439 233.235,-189.641\"/>\r\n",
       "</g>\r\n",
       "<!-- 4 -->\r\n",
       "<g id=\"node4\" class=\"node\"><title>4</title>\r\n",
       "<ellipse fill=\"none\" stroke=\"black\" cx=\"99\" cy=\"-90\" rx=\"27\" ry=\"18\"/>\r\n",
       "<text text-anchor=\"middle\" x=\"99\" y=\"-86.3\" font-family=\"Times New Roman,serif\" font-size=\"14.00\">4</text>\r\n",
       "</g>\r\n",
       "<!-- 2&#45;&gt;4 -->\r\n",
       "<g id=\"edge3\" class=\"edge\"><title>2&#45;&gt;4</title>\r\n",
       "<path fill=\"none\" stroke=\"black\" d=\"M156.43,-146.834C146.25,-136.938 132.476,-123.546 120.969,-112.359\"/>\r\n",
       "<polygon fill=\"black\" stroke=\"black\" points=\"123.405,-109.846 113.796,-105.385 118.526,-114.865 123.405,-109.846\"/>\r\n",
       "</g>\r\n",
       "<!-- 5 -->\r\n",
       "<g id=\"node5\" class=\"node\"><title>5</title>\r\n",
       "<ellipse fill=\"none\" stroke=\"black\" cx=\"171\" cy=\"-90\" rx=\"27\" ry=\"18\"/>\r\n",
       "<text text-anchor=\"middle\" x=\"171\" y=\"-86.3\" font-family=\"Times New Roman,serif\" font-size=\"14.00\">5</text>\r\n",
       "</g>\r\n",
       "<!-- 2&#45;&gt;5 -->\r\n",
       "<g id=\"edge4\" class=\"edge\"><title>2&#45;&gt;5</title>\r\n",
       "<path fill=\"none\" stroke=\"black\" d=\"M171,-143.697C171,-135.983 171,-126.712 171,-118.112\"/>\r\n",
       "<polygon fill=\"black\" stroke=\"black\" points=\"174.5,-118.104 171,-108.104 167.5,-118.104 174.5,-118.104\"/>\r\n",
       "</g>\r\n",
       "<!-- 6 -->\r\n",
       "<g id=\"node6\" class=\"node\"><title>6</title>\r\n",
       "<ellipse fill=\"none\" stroke=\"black\" cx=\"243\" cy=\"-90\" rx=\"27\" ry=\"18\"/>\r\n",
       "<text text-anchor=\"middle\" x=\"243\" y=\"-86.3\" font-family=\"Times New Roman,serif\" font-size=\"14.00\">6</text>\r\n",
       "</g>\r\n",
       "<!-- 3&#45;&gt;6 -->\r\n",
       "<g id=\"edge5\" class=\"edge\"><title>3&#45;&gt;6</title>\r\n",
       "<path fill=\"none\" stroke=\"black\" d=\"M243,-143.697C243,-135.983 243,-126.712 243,-118.112\"/>\r\n",
       "<polygon fill=\"black\" stroke=\"black\" points=\"246.5,-118.104 243,-108.104 239.5,-118.104 246.5,-118.104\"/>\r\n",
       "</g>\r\n",
       "<!-- 7 -->\r\n",
       "<g id=\"node7\" class=\"node\"><title>7</title>\r\n",
       "<ellipse fill=\"none\" stroke=\"black\" cx=\"315\" cy=\"-90\" rx=\"27\" ry=\"18\"/>\r\n",
       "<text text-anchor=\"middle\" x=\"315\" y=\"-86.3\" font-family=\"Times New Roman,serif\" font-size=\"14.00\">7</text>\r\n",
       "</g>\r\n",
       "<!-- 3&#45;&gt;7 -->\r\n",
       "<g id=\"edge6\" class=\"edge\"><title>3&#45;&gt;7</title>\r\n",
       "<path fill=\"none\" stroke=\"black\" d=\"M257.57,-146.834C267.75,-136.938 281.524,-123.546 293.031,-112.359\"/>\r\n",
       "<polygon fill=\"black\" stroke=\"black\" points=\"295.474,-114.865 300.204,-105.385 290.595,-109.846 295.474,-114.865\"/>\r\n",
       "</g>\r\n",
       "<!-- 8 -->\r\n",
       "<g id=\"node8\" class=\"node\"><title>8</title>\r\n",
       "<ellipse fill=\"none\" stroke=\"black\" cx=\"27\" cy=\"-18\" rx=\"27\" ry=\"18\"/>\r\n",
       "<text text-anchor=\"middle\" x=\"27\" y=\"-14.3\" font-family=\"Times New Roman,serif\" font-size=\"14.00\">8</text>\r\n",
       "</g>\r\n",
       "<!-- 4&#45;&gt;8 -->\r\n",
       "<g id=\"edge7\" class=\"edge\"><title>4&#45;&gt;8</title>\r\n",
       "<path fill=\"none\" stroke=\"black\" d=\"M84.4297,-74.8345C74.2501,-64.9376 60.4761,-51.5462 48.9694,-40.3591\"/>\r\n",
       "<polygon fill=\"black\" stroke=\"black\" points=\"51.4055,-37.8461 41.7957,-33.3847 46.5259,-42.865 51.4055,-37.8461\"/>\r\n",
       "</g>\r\n",
       "<!-- 9 -->\r\n",
       "<g id=\"node9\" class=\"node\"><title>9</title>\r\n",
       "<ellipse fill=\"none\" stroke=\"black\" cx=\"99\" cy=\"-18\" rx=\"27\" ry=\"18\"/>\r\n",
       "<text text-anchor=\"middle\" x=\"99\" y=\"-14.3\" font-family=\"Times New Roman,serif\" font-size=\"14.00\">9</text>\r\n",
       "</g>\r\n",
       "<!-- 4&#45;&gt;9 -->\r\n",
       "<g id=\"edge8\" class=\"edge\"><title>4&#45;&gt;9</title>\r\n",
       "<path fill=\"none\" stroke=\"black\" d=\"M99,-71.6966C99,-63.9827 99,-54.7125 99,-46.1124\"/>\r\n",
       "<polygon fill=\"black\" stroke=\"black\" points=\"102.5,-46.1043 99,-36.1043 95.5001,-46.1044 102.5,-46.1043\"/>\r\n",
       "</g>\r\n",
       "<!-- 10 -->\r\n",
       "<g id=\"node10\" class=\"node\"><title>10</title>\r\n",
       "<ellipse fill=\"none\" stroke=\"black\" cx=\"171\" cy=\"-18\" rx=\"27\" ry=\"18\"/>\r\n",
       "<text text-anchor=\"middle\" x=\"171\" y=\"-14.3\" font-family=\"Times New Roman,serif\" font-size=\"14.00\">10</text>\r\n",
       "</g>\r\n",
       "<!-- 5&#45;&gt;10 -->\r\n",
       "<g id=\"edge9\" class=\"edge\"><title>5&#45;&gt;10</title>\r\n",
       "<path fill=\"none\" stroke=\"black\" d=\"M171,-71.6966C171,-63.9827 171,-54.7125 171,-46.1124\"/>\r\n",
       "<polygon fill=\"black\" stroke=\"black\" points=\"174.5,-46.1043 171,-36.1043 167.5,-46.1044 174.5,-46.1043\"/>\r\n",
       "</g>\r\n",
       "</g>\r\n",
       "</svg>\r\n"
      ],
      "text/plain": [
       "<graphviz.dot.Digraph at 0x2471cc59588>"
      ]
     },
     "execution_count": 1,
     "metadata": {},
     "output_type": "execute_result"
    }
   ],
   "source": [
    "# In Anaconda Prompt if package not installed\n",
    "# > conda install python-graphviz\n",
    "\n",
    "print(\"Tree with heap invariant property\")\n",
    "from graphviz import Digraph\n",
    "\n",
    "heaps = Digraph()\n",
    "for i in range(1,11):\n",
    "    heaps.node(str(i),str(i))\n",
    "heaps.edge(\"1\", \"2\")\n",
    "heaps.edge(\"1\",\"3\")\n",
    "heaps.edge(\"2\",\"4\")\n",
    "heaps.edge(\"2\",\"5\")\n",
    "heaps.edge(\"3\",\"6\")\n",
    "heaps.edge(\"3\",\"7\")\n",
    "heaps.edge(\"4\",\"8\")\n",
    "heaps.edge(\"4\",\"9\")\n",
    "heaps.edge(\"5\",\"10\")\n",
    "heaps\n"
   ]
  },
  {
   "cell_type": "code",
   "execution_count": 2,
   "metadata": {},
   "outputs": [
    {
     "data": {
      "image/svg+xml": [
       "<?xml version=\"1.0\" encoding=\"UTF-8\" standalone=\"no\"?>\r\n",
       "<!DOCTYPE svg PUBLIC \"-//W3C//DTD SVG 1.1//EN\"\r\n",
       " \"http://www.w3.org/Graphics/SVG/1.1/DTD/svg11.dtd\">\r\n",
       "<!-- Generated by graphviz version 2.38.0 (20140413.2041)\r\n",
       " -->\r\n",
       "<!-- Title: %3 Pages: 1 -->\r\n",
       "<svg width=\"314pt\" height=\"260pt\"\r\n",
       " viewBox=\"0.00 0.00 314.00 260.00\" xmlns=\"http://www.w3.org/2000/svg\" xmlns:xlink=\"http://www.w3.org/1999/xlink\">\r\n",
       "<g id=\"graph0\" class=\"graph\" transform=\"scale(1 1) rotate(0) translate(4 256)\">\r\n",
       "<title>%3</title>\r\n",
       "<polygon fill=\"white\" stroke=\"none\" points=\"-4,4 -4,-256 310,-256 310,4 -4,4\"/>\r\n",
       "<!-- 2 -->\r\n",
       "<g id=\"node1\" class=\"node\"><title>2</title>\r\n",
       "<ellipse fill=\"none\" stroke=\"black\" cx=\"135\" cy=\"-162\" rx=\"27\" ry=\"18\"/>\r\n",
       "<text text-anchor=\"middle\" x=\"135\" y=\"-158.3\" font-family=\"Times New Roman,serif\" font-size=\"14.00\">2</text>\r\n",
       "</g>\r\n",
       "<!-- 4 -->\r\n",
       "<g id=\"node3\" class=\"node\"><title>4</title>\r\n",
       "<ellipse fill=\"none\" stroke=\"black\" cx=\"63\" cy=\"-90\" rx=\"27\" ry=\"18\"/>\r\n",
       "<text text-anchor=\"middle\" x=\"63\" y=\"-86.3\" font-family=\"Times New Roman,serif\" font-size=\"14.00\">4</text>\r\n",
       "</g>\r\n",
       "<!-- 2&#45;&gt;4 -->\r\n",
       "<g id=\"edge3\" class=\"edge\"><title>2&#45;&gt;4</title>\r\n",
       "<path fill=\"none\" stroke=\"black\" d=\"M120.43,-146.834C110.25,-136.938 96.4761,-123.546 84.9694,-112.359\"/>\r\n",
       "<polygon fill=\"black\" stroke=\"black\" points=\"87.4055,-109.846 77.7957,-105.385 82.5259,-114.865 87.4055,-109.846\"/>\r\n",
       "</g>\r\n",
       "<!-- 5 -->\r\n",
       "<g id=\"node4\" class=\"node\"><title>5</title>\r\n",
       "<ellipse fill=\"none\" stroke=\"black\" cx=\"135\" cy=\"-90\" rx=\"27\" ry=\"18\"/>\r\n",
       "<text text-anchor=\"middle\" x=\"135\" y=\"-86.3\" font-family=\"Times New Roman,serif\" font-size=\"14.00\">5</text>\r\n",
       "</g>\r\n",
       "<!-- 2&#45;&gt;5 -->\r\n",
       "<g id=\"edge4\" class=\"edge\"><title>2&#45;&gt;5</title>\r\n",
       "<path fill=\"none\" stroke=\"black\" d=\"M135,-143.697C135,-135.983 135,-126.712 135,-118.112\"/>\r\n",
       "<polygon fill=\"black\" stroke=\"black\" points=\"138.5,-118.104 135,-108.104 131.5,-118.104 138.5,-118.104\"/>\r\n",
       "</g>\r\n",
       "<!-- 3 -->\r\n",
       "<g id=\"node2\" class=\"node\"><title>3</title>\r\n",
       "<ellipse fill=\"none\" stroke=\"black\" cx=\"207\" cy=\"-162\" rx=\"27\" ry=\"18\"/>\r\n",
       "<text text-anchor=\"middle\" x=\"207\" y=\"-158.3\" font-family=\"Times New Roman,serif\" font-size=\"14.00\">3</text>\r\n",
       "</g>\r\n",
       "<!-- 6 -->\r\n",
       "<g id=\"node5\" class=\"node\"><title>6</title>\r\n",
       "<ellipse fill=\"none\" stroke=\"black\" cx=\"207\" cy=\"-90\" rx=\"27\" ry=\"18\"/>\r\n",
       "<text text-anchor=\"middle\" x=\"207\" y=\"-86.3\" font-family=\"Times New Roman,serif\" font-size=\"14.00\">6</text>\r\n",
       "</g>\r\n",
       "<!-- 3&#45;&gt;6 -->\r\n",
       "<g id=\"edge5\" class=\"edge\"><title>3&#45;&gt;6</title>\r\n",
       "<path fill=\"none\" stroke=\"black\" d=\"M207,-143.697C207,-135.983 207,-126.712 207,-118.112\"/>\r\n",
       "<polygon fill=\"black\" stroke=\"black\" points=\"210.5,-118.104 207,-108.104 203.5,-118.104 210.5,-118.104\"/>\r\n",
       "</g>\r\n",
       "<!-- 7 -->\r\n",
       "<g id=\"node6\" class=\"node\"><title>7</title>\r\n",
       "<ellipse fill=\"none\" stroke=\"black\" cx=\"279\" cy=\"-90\" rx=\"27\" ry=\"18\"/>\r\n",
       "<text text-anchor=\"middle\" x=\"279\" y=\"-86.3\" font-family=\"Times New Roman,serif\" font-size=\"14.00\">7</text>\r\n",
       "</g>\r\n",
       "<!-- 3&#45;&gt;7 -->\r\n",
       "<g id=\"edge6\" class=\"edge\"><title>3&#45;&gt;7</title>\r\n",
       "<path fill=\"none\" stroke=\"black\" d=\"M221.57,-146.834C231.75,-136.938 245.524,-123.546 257.031,-112.359\"/>\r\n",
       "<polygon fill=\"black\" stroke=\"black\" points=\"259.474,-114.865 264.204,-105.385 254.595,-109.846 259.474,-114.865\"/>\r\n",
       "</g>\r\n",
       "<!-- 8 -->\r\n",
       "<g id=\"node7\" class=\"node\"><title>8</title>\r\n",
       "<ellipse fill=\"none\" stroke=\"black\" cx=\"27\" cy=\"-18\" rx=\"27\" ry=\"18\"/>\r\n",
       "<text text-anchor=\"middle\" x=\"27\" y=\"-14.3\" font-family=\"Times New Roman,serif\" font-size=\"14.00\">8</text>\r\n",
       "</g>\r\n",
       "<!-- 4&#45;&gt;8 -->\r\n",
       "<g id=\"edge7\" class=\"edge\"><title>4&#45;&gt;8</title>\r\n",
       "<path fill=\"none\" stroke=\"black\" d=\"M54.6504,-72.7646C50.2885,-64.2831 44.8531,-53.7144 39.9587,-44.1974\"/>\r\n",
       "<polygon fill=\"black\" stroke=\"black\" points=\"42.9904,-42.4395 35.3043,-35.1473 36.7654,-45.6409 42.9904,-42.4395\"/>\r\n",
       "</g>\r\n",
       "<!-- 9 -->\r\n",
       "<g id=\"node8\" class=\"node\"><title>9</title>\r\n",
       "<ellipse fill=\"none\" stroke=\"black\" cx=\"99\" cy=\"-18\" rx=\"27\" ry=\"18\"/>\r\n",
       "<text text-anchor=\"middle\" x=\"99\" y=\"-14.3\" font-family=\"Times New Roman,serif\" font-size=\"14.00\">9</text>\r\n",
       "</g>\r\n",
       "<!-- 4&#45;&gt;9 -->\r\n",
       "<g id=\"edge8\" class=\"edge\"><title>4&#45;&gt;9</title>\r\n",
       "<path fill=\"none\" stroke=\"black\" d=\"M71.3496,-72.7646C75.7115,-64.2831 81.1469,-53.7144 86.0413,-44.1974\"/>\r\n",
       "<polygon fill=\"black\" stroke=\"black\" points=\"89.2346,-45.6409 90.6957,-35.1473 83.0096,-42.4395 89.2346,-45.6409\"/>\r\n",
       "</g>\r\n",
       "<!-- 10 -->\r\n",
       "<g id=\"node9\" class=\"node\"><title>10</title>\r\n",
       "<ellipse fill=\"none\" stroke=\"black\" cx=\"171\" cy=\"-234\" rx=\"27\" ry=\"18\"/>\r\n",
       "<text text-anchor=\"middle\" x=\"171\" y=\"-230.3\" font-family=\"Times New Roman,serif\" font-size=\"14.00\">10</text>\r\n",
       "</g>\r\n",
       "<!-- 10&#45;&gt;2 -->\r\n",
       "<g id=\"edge1\" class=\"edge\"><title>10&#45;&gt;2</title>\r\n",
       "<path fill=\"none\" stroke=\"black\" d=\"M162.65,-216.765C158.288,-208.283 152.853,-197.714 147.959,-188.197\"/>\r\n",
       "<polygon fill=\"black\" stroke=\"black\" points=\"150.99,-186.439 143.304,-179.147 144.765,-189.641 150.99,-186.439\"/>\r\n",
       "</g>\r\n",
       "<!-- 10&#45;&gt;3 -->\r\n",
       "<g id=\"edge2\" class=\"edge\"><title>10&#45;&gt;3</title>\r\n",
       "<path fill=\"none\" stroke=\"black\" d=\"M179.35,-216.765C183.712,-208.283 189.147,-197.714 194.041,-188.197\"/>\r\n",
       "<polygon fill=\"black\" stroke=\"black\" points=\"197.235,-189.641 198.696,-179.147 191.01,-186.439 197.235,-189.641\"/>\r\n",
       "</g>\r\n",
       "</g>\r\n",
       "</svg>\r\n"
      ],
      "text/plain": [
       "<graphviz.dot.Digraph at 0x2471cc6ad68>"
      ]
     },
     "execution_count": 2,
     "metadata": {},
     "output_type": "execute_result"
    }
   ],
   "source": [
    "heaps = Digraph()\n",
    "for i in range(2,11):\n",
    "    heaps.node(str(i),str(i))\n",
    "heaps.edge(\"10\", \"2\")\n",
    "heaps.edge(\"10\",\"3\")\n",
    "heaps.edge(\"2\",\"4\")\n",
    "heaps.edge(\"2\",\"5\")\n",
    "heaps.edge(\"3\",\"6\")\n",
    "heaps.edge(\"3\",\"7\")\n",
    "heaps.edge(\"4\",\"8\")\n",
    "heaps.edge(\"4\",\"9\")\n",
    "heaps"
   ]
  },
  {
   "cell_type": "code",
   "execution_count": 3,
   "metadata": {},
   "outputs": [
    {
     "name": "stdout",
     "output_type": "stream",
     "text": [
      "2nd Iteration\n"
     ]
    },
    {
     "data": {
      "image/svg+xml": [
       "<?xml version=\"1.0\" encoding=\"UTF-8\" standalone=\"no\"?>\r\n",
       "<!DOCTYPE svg PUBLIC \"-//W3C//DTD SVG 1.1//EN\"\r\n",
       " \"http://www.w3.org/Graphics/SVG/1.1/DTD/svg11.dtd\">\r\n",
       "<!-- Generated by graphviz version 2.38.0 (20140413.2041)\r\n",
       " -->\r\n",
       "<!-- Title: %3 Pages: 1 -->\r\n",
       "<svg width=\"314pt\" height=\"260pt\"\r\n",
       " viewBox=\"0.00 0.00 314.00 260.00\" xmlns=\"http://www.w3.org/2000/svg\" xmlns:xlink=\"http://www.w3.org/1999/xlink\">\r\n",
       "<g id=\"graph0\" class=\"graph\" transform=\"scale(1 1) rotate(0) translate(4 256)\">\r\n",
       "<title>%3</title>\r\n",
       "<polygon fill=\"white\" stroke=\"none\" points=\"-4,4 -4,-256 310,-256 310,4 -4,4\"/>\r\n",
       "<!-- 2 -->\r\n",
       "<g id=\"node1\" class=\"node\"><title>2</title>\r\n",
       "<ellipse fill=\"none\" stroke=\"black\" cx=\"171\" cy=\"-234\" rx=\"27\" ry=\"18\"/>\r\n",
       "<text text-anchor=\"middle\" x=\"171\" y=\"-230.3\" font-family=\"Times New Roman,serif\" font-size=\"14.00\">2</text>\r\n",
       "</g>\r\n",
       "<!-- 10 -->\r\n",
       "<g id=\"node2\" class=\"node\"><title>10</title>\r\n",
       "<ellipse fill=\"none\" stroke=\"black\" cx=\"135\" cy=\"-162\" rx=\"27\" ry=\"18\"/>\r\n",
       "<text text-anchor=\"middle\" x=\"135\" y=\"-158.3\" font-family=\"Times New Roman,serif\" font-size=\"14.00\">10</text>\r\n",
       "</g>\r\n",
       "<!-- 2&#45;&gt;10 -->\r\n",
       "<g id=\"edge1\" class=\"edge\"><title>2&#45;&gt;10</title>\r\n",
       "<path fill=\"none\" stroke=\"black\" d=\"M162.65,-216.765C158.288,-208.283 152.853,-197.714 147.959,-188.197\"/>\r\n",
       "<polygon fill=\"black\" stroke=\"black\" points=\"150.99,-186.439 143.304,-179.147 144.765,-189.641 150.99,-186.439\"/>\r\n",
       "</g>\r\n",
       "<!-- 3 -->\r\n",
       "<g id=\"node3\" class=\"node\"><title>3</title>\r\n",
       "<ellipse fill=\"none\" stroke=\"black\" cx=\"207\" cy=\"-162\" rx=\"27\" ry=\"18\"/>\r\n",
       "<text text-anchor=\"middle\" x=\"207\" y=\"-158.3\" font-family=\"Times New Roman,serif\" font-size=\"14.00\">3</text>\r\n",
       "</g>\r\n",
       "<!-- 2&#45;&gt;3 -->\r\n",
       "<g id=\"edge2\" class=\"edge\"><title>2&#45;&gt;3</title>\r\n",
       "<path fill=\"none\" stroke=\"black\" d=\"M179.35,-216.765C183.712,-208.283 189.147,-197.714 194.041,-188.197\"/>\r\n",
       "<polygon fill=\"black\" stroke=\"black\" points=\"197.235,-189.641 198.696,-179.147 191.01,-186.439 197.235,-189.641\"/>\r\n",
       "</g>\r\n",
       "<!-- 4 -->\r\n",
       "<g id=\"node4\" class=\"node\"><title>4</title>\r\n",
       "<ellipse fill=\"none\" stroke=\"black\" cx=\"63\" cy=\"-90\" rx=\"27\" ry=\"18\"/>\r\n",
       "<text text-anchor=\"middle\" x=\"63\" y=\"-86.3\" font-family=\"Times New Roman,serif\" font-size=\"14.00\">4</text>\r\n",
       "</g>\r\n",
       "<!-- 10&#45;&gt;4 -->\r\n",
       "<g id=\"edge3\" class=\"edge\"><title>10&#45;&gt;4</title>\r\n",
       "<path fill=\"none\" stroke=\"black\" d=\"M120.43,-146.834C110.25,-136.938 96.4761,-123.546 84.9694,-112.359\"/>\r\n",
       "<polygon fill=\"black\" stroke=\"black\" points=\"87.4055,-109.846 77.7957,-105.385 82.5259,-114.865 87.4055,-109.846\"/>\r\n",
       "</g>\r\n",
       "<!-- 5 -->\r\n",
       "<g id=\"node5\" class=\"node\"><title>5</title>\r\n",
       "<ellipse fill=\"none\" stroke=\"black\" cx=\"135\" cy=\"-90\" rx=\"27\" ry=\"18\"/>\r\n",
       "<text text-anchor=\"middle\" x=\"135\" y=\"-86.3\" font-family=\"Times New Roman,serif\" font-size=\"14.00\">5</text>\r\n",
       "</g>\r\n",
       "<!-- 10&#45;&gt;5 -->\r\n",
       "<g id=\"edge4\" class=\"edge\"><title>10&#45;&gt;5</title>\r\n",
       "<path fill=\"none\" stroke=\"black\" d=\"M135,-143.697C135,-135.983 135,-126.712 135,-118.112\"/>\r\n",
       "<polygon fill=\"black\" stroke=\"black\" points=\"138.5,-118.104 135,-108.104 131.5,-118.104 138.5,-118.104\"/>\r\n",
       "</g>\r\n",
       "<!-- 6 -->\r\n",
       "<g id=\"node6\" class=\"node\"><title>6</title>\r\n",
       "<ellipse fill=\"none\" stroke=\"black\" cx=\"207\" cy=\"-90\" rx=\"27\" ry=\"18\"/>\r\n",
       "<text text-anchor=\"middle\" x=\"207\" y=\"-86.3\" font-family=\"Times New Roman,serif\" font-size=\"14.00\">6</text>\r\n",
       "</g>\r\n",
       "<!-- 3&#45;&gt;6 -->\r\n",
       "<g id=\"edge5\" class=\"edge\"><title>3&#45;&gt;6</title>\r\n",
       "<path fill=\"none\" stroke=\"black\" d=\"M207,-143.697C207,-135.983 207,-126.712 207,-118.112\"/>\r\n",
       "<polygon fill=\"black\" stroke=\"black\" points=\"210.5,-118.104 207,-108.104 203.5,-118.104 210.5,-118.104\"/>\r\n",
       "</g>\r\n",
       "<!-- 7 -->\r\n",
       "<g id=\"node7\" class=\"node\"><title>7</title>\r\n",
       "<ellipse fill=\"none\" stroke=\"black\" cx=\"279\" cy=\"-90\" rx=\"27\" ry=\"18\"/>\r\n",
       "<text text-anchor=\"middle\" x=\"279\" y=\"-86.3\" font-family=\"Times New Roman,serif\" font-size=\"14.00\">7</text>\r\n",
       "</g>\r\n",
       "<!-- 3&#45;&gt;7 -->\r\n",
       "<g id=\"edge6\" class=\"edge\"><title>3&#45;&gt;7</title>\r\n",
       "<path fill=\"none\" stroke=\"black\" d=\"M221.57,-146.834C231.75,-136.938 245.524,-123.546 257.031,-112.359\"/>\r\n",
       "<polygon fill=\"black\" stroke=\"black\" points=\"259.474,-114.865 264.204,-105.385 254.595,-109.846 259.474,-114.865\"/>\r\n",
       "</g>\r\n",
       "<!-- 8 -->\r\n",
       "<g id=\"node8\" class=\"node\"><title>8</title>\r\n",
       "<ellipse fill=\"none\" stroke=\"black\" cx=\"27\" cy=\"-18\" rx=\"27\" ry=\"18\"/>\r\n",
       "<text text-anchor=\"middle\" x=\"27\" y=\"-14.3\" font-family=\"Times New Roman,serif\" font-size=\"14.00\">8</text>\r\n",
       "</g>\r\n",
       "<!-- 4&#45;&gt;8 -->\r\n",
       "<g id=\"edge7\" class=\"edge\"><title>4&#45;&gt;8</title>\r\n",
       "<path fill=\"none\" stroke=\"black\" d=\"M54.6504,-72.7646C50.2885,-64.2831 44.8531,-53.7144 39.9587,-44.1974\"/>\r\n",
       "<polygon fill=\"black\" stroke=\"black\" points=\"42.9904,-42.4395 35.3043,-35.1473 36.7654,-45.6409 42.9904,-42.4395\"/>\r\n",
       "</g>\r\n",
       "<!-- 9 -->\r\n",
       "<g id=\"node9\" class=\"node\"><title>9</title>\r\n",
       "<ellipse fill=\"none\" stroke=\"black\" cx=\"99\" cy=\"-18\" rx=\"27\" ry=\"18\"/>\r\n",
       "<text text-anchor=\"middle\" x=\"99\" y=\"-14.3\" font-family=\"Times New Roman,serif\" font-size=\"14.00\">9</text>\r\n",
       "</g>\r\n",
       "<!-- 4&#45;&gt;9 -->\r\n",
       "<g id=\"edge8\" class=\"edge\"><title>4&#45;&gt;9</title>\r\n",
       "<path fill=\"none\" stroke=\"black\" d=\"M71.3496,-72.7646C75.7115,-64.2831 81.1469,-53.7144 86.0413,-44.1974\"/>\r\n",
       "<polygon fill=\"black\" stroke=\"black\" points=\"89.2346,-45.6409 90.6957,-35.1473 83.0096,-42.4395 89.2346,-45.6409\"/>\r\n",
       "</g>\r\n",
       "</g>\r\n",
       "</svg>\r\n"
      ],
      "text/plain": [
       "<graphviz.dot.Digraph at 0x2471cc875c0>"
      ]
     },
     "execution_count": 3,
     "metadata": {},
     "output_type": "execute_result"
    }
   ],
   "source": [
    "print(\"2nd Iteration\")\n",
    "heaps = Digraph()\n",
    "heaps.node(\"2\",\"2\")\n",
    "heaps.node(\"10\",\"10\")\n",
    "for i in range(3,10):\n",
    "    heaps.node(str(i),str(i))\n",
    "heaps.edge(\"2\", \"10\")\n",
    "heaps.edge(\"2\",\"3\")\n",
    "heaps.edge(\"10\",\"4\")\n",
    "heaps.edge(\"10\",\"5\")\n",
    "heaps.edge(\"3\",\"6\")\n",
    "heaps.edge(\"3\",\"7\")\n",
    "heaps.edge(\"4\",\"8\")\n",
    "heaps.edge(\"4\",\"9\")\n",
    "heaps\n"
   ]
  },
  {
   "cell_type": "code",
   "execution_count": 4,
   "metadata": {},
   "outputs": [
    {
     "name": "stdout",
     "output_type": "stream",
     "text": [
      "3rd Iteration\n"
     ]
    },
    {
     "data": {
      "image/svg+xml": [
       "<?xml version=\"1.0\" encoding=\"UTF-8\" standalone=\"no\"?>\r\n",
       "<!DOCTYPE svg PUBLIC \"-//W3C//DTD SVG 1.1//EN\"\r\n",
       " \"http://www.w3.org/Graphics/SVG/1.1/DTD/svg11.dtd\">\r\n",
       "<!-- Generated by graphviz version 2.38.0 (20140413.2041)\r\n",
       " -->\r\n",
       "<!-- Title: %3 Pages: 1 -->\r\n",
       "<svg width=\"314pt\" height=\"260pt\"\r\n",
       " viewBox=\"0.00 0.00 314.00 260.00\" xmlns=\"http://www.w3.org/2000/svg\" xmlns:xlink=\"http://www.w3.org/1999/xlink\">\r\n",
       "<g id=\"graph0\" class=\"graph\" transform=\"scale(1 1) rotate(0) translate(4 256)\">\r\n",
       "<title>%3</title>\r\n",
       "<polygon fill=\"white\" stroke=\"none\" points=\"-4,4 -4,-256 310,-256 310,4 -4,4\"/>\r\n",
       "<!-- 4 -->\r\n",
       "<g id=\"node1\" class=\"node\"><title>4</title>\r\n",
       "<ellipse fill=\"none\" stroke=\"black\" cx=\"135\" cy=\"-162\" rx=\"27\" ry=\"18\"/>\r\n",
       "<text text-anchor=\"middle\" x=\"135\" y=\"-158.3\" font-family=\"Times New Roman,serif\" font-size=\"14.00\">4</text>\r\n",
       "</g>\r\n",
       "<!-- 8 -->\r\n",
       "<g id=\"node2\" class=\"node\"><title>8</title>\r\n",
       "<ellipse fill=\"none\" stroke=\"black\" cx=\"63\" cy=\"-90\" rx=\"27\" ry=\"18\"/>\r\n",
       "<text text-anchor=\"middle\" x=\"63\" y=\"-86.3\" font-family=\"Times New Roman,serif\" font-size=\"14.00\">8</text>\r\n",
       "</g>\r\n",
       "<!-- 4&#45;&gt;8 -->\r\n",
       "<g id=\"edge3\" class=\"edge\"><title>4&#45;&gt;8</title>\r\n",
       "<path fill=\"none\" stroke=\"black\" d=\"M120.43,-146.834C110.25,-136.938 96.4761,-123.546 84.9694,-112.359\"/>\r\n",
       "<polygon fill=\"black\" stroke=\"black\" points=\"87.4055,-109.846 77.7957,-105.385 82.5259,-114.865 87.4055,-109.846\"/>\r\n",
       "</g>\r\n",
       "<!-- 5 -->\r\n",
       "<g id=\"node5\" class=\"node\"><title>5</title>\r\n",
       "<ellipse fill=\"none\" stroke=\"black\" cx=\"135\" cy=\"-90\" rx=\"27\" ry=\"18\"/>\r\n",
       "<text text-anchor=\"middle\" x=\"135\" y=\"-86.3\" font-family=\"Times New Roman,serif\" font-size=\"14.00\">5</text>\r\n",
       "</g>\r\n",
       "<!-- 4&#45;&gt;5 -->\r\n",
       "<g id=\"edge4\" class=\"edge\"><title>4&#45;&gt;5</title>\r\n",
       "<path fill=\"none\" stroke=\"black\" d=\"M135,-143.697C135,-135.983 135,-126.712 135,-118.112\"/>\r\n",
       "<polygon fill=\"black\" stroke=\"black\" points=\"138.5,-118.104 135,-108.104 131.5,-118.104 138.5,-118.104\"/>\r\n",
       "</g>\r\n",
       "<!-- 9 -->\r\n",
       "<g id=\"node8\" class=\"node\"><title>9</title>\r\n",
       "<ellipse fill=\"none\" stroke=\"black\" cx=\"27\" cy=\"-18\" rx=\"27\" ry=\"18\"/>\r\n",
       "<text text-anchor=\"middle\" x=\"27\" y=\"-14.3\" font-family=\"Times New Roman,serif\" font-size=\"14.00\">9</text>\r\n",
       "</g>\r\n",
       "<!-- 8&#45;&gt;9 -->\r\n",
       "<g id=\"edge8\" class=\"edge\"><title>8&#45;&gt;9</title>\r\n",
       "<path fill=\"none\" stroke=\"black\" d=\"M54.6504,-72.7646C50.2885,-64.2831 44.8531,-53.7144 39.9587,-44.1974\"/>\r\n",
       "<polygon fill=\"black\" stroke=\"black\" points=\"42.9904,-42.4395 35.3043,-35.1473 36.7654,-45.6409 42.9904,-42.4395\"/>\r\n",
       "</g>\r\n",
       "<!-- 10 -->\r\n",
       "<g id=\"node9\" class=\"node\"><title>10</title>\r\n",
       "<ellipse fill=\"none\" stroke=\"black\" cx=\"99\" cy=\"-18\" rx=\"27\" ry=\"18\"/>\r\n",
       "<text text-anchor=\"middle\" x=\"99\" y=\"-14.3\" font-family=\"Times New Roman,serif\" font-size=\"14.00\">10</text>\r\n",
       "</g>\r\n",
       "<!-- 8&#45;&gt;10 -->\r\n",
       "<g id=\"edge7\" class=\"edge\"><title>8&#45;&gt;10</title>\r\n",
       "<path fill=\"none\" stroke=\"black\" d=\"M71.3496,-72.7646C75.7115,-64.2831 81.1469,-53.7144 86.0413,-44.1974\"/>\r\n",
       "<polygon fill=\"black\" stroke=\"black\" points=\"89.2346,-45.6409 90.6957,-35.1473 83.0096,-42.4395 89.2346,-45.6409\"/>\r\n",
       "</g>\r\n",
       "<!-- 2 -->\r\n",
       "<g id=\"node3\" class=\"node\"><title>2</title>\r\n",
       "<ellipse fill=\"none\" stroke=\"black\" cx=\"171\" cy=\"-234\" rx=\"27\" ry=\"18\"/>\r\n",
       "<text text-anchor=\"middle\" x=\"171\" y=\"-230.3\" font-family=\"Times New Roman,serif\" font-size=\"14.00\">2</text>\r\n",
       "</g>\r\n",
       "<!-- 2&#45;&gt;4 -->\r\n",
       "<g id=\"edge1\" class=\"edge\"><title>2&#45;&gt;4</title>\r\n",
       "<path fill=\"none\" stroke=\"black\" d=\"M162.65,-216.765C158.288,-208.283 152.853,-197.714 147.959,-188.197\"/>\r\n",
       "<polygon fill=\"black\" stroke=\"black\" points=\"150.99,-186.439 143.304,-179.147 144.765,-189.641 150.99,-186.439\"/>\r\n",
       "</g>\r\n",
       "<!-- 3 -->\r\n",
       "<g id=\"node4\" class=\"node\"><title>3</title>\r\n",
       "<ellipse fill=\"none\" stroke=\"black\" cx=\"207\" cy=\"-162\" rx=\"27\" ry=\"18\"/>\r\n",
       "<text text-anchor=\"middle\" x=\"207\" y=\"-158.3\" font-family=\"Times New Roman,serif\" font-size=\"14.00\">3</text>\r\n",
       "</g>\r\n",
       "<!-- 2&#45;&gt;3 -->\r\n",
       "<g id=\"edge2\" class=\"edge\"><title>2&#45;&gt;3</title>\r\n",
       "<path fill=\"none\" stroke=\"black\" d=\"M179.35,-216.765C183.712,-208.283 189.147,-197.714 194.041,-188.197\"/>\r\n",
       "<polygon fill=\"black\" stroke=\"black\" points=\"197.235,-189.641 198.696,-179.147 191.01,-186.439 197.235,-189.641\"/>\r\n",
       "</g>\r\n",
       "<!-- 6 -->\r\n",
       "<g id=\"node6\" class=\"node\"><title>6</title>\r\n",
       "<ellipse fill=\"none\" stroke=\"black\" cx=\"207\" cy=\"-90\" rx=\"27\" ry=\"18\"/>\r\n",
       "<text text-anchor=\"middle\" x=\"207\" y=\"-86.3\" font-family=\"Times New Roman,serif\" font-size=\"14.00\">6</text>\r\n",
       "</g>\r\n",
       "<!-- 3&#45;&gt;6 -->\r\n",
       "<g id=\"edge5\" class=\"edge\"><title>3&#45;&gt;6</title>\r\n",
       "<path fill=\"none\" stroke=\"black\" d=\"M207,-143.697C207,-135.983 207,-126.712 207,-118.112\"/>\r\n",
       "<polygon fill=\"black\" stroke=\"black\" points=\"210.5,-118.104 207,-108.104 203.5,-118.104 210.5,-118.104\"/>\r\n",
       "</g>\r\n",
       "<!-- 7 -->\r\n",
       "<g id=\"node7\" class=\"node\"><title>7</title>\r\n",
       "<ellipse fill=\"none\" stroke=\"black\" cx=\"279\" cy=\"-90\" rx=\"27\" ry=\"18\"/>\r\n",
       "<text text-anchor=\"middle\" x=\"279\" y=\"-86.3\" font-family=\"Times New Roman,serif\" font-size=\"14.00\">7</text>\r\n",
       "</g>\r\n",
       "<!-- 3&#45;&gt;7 -->\r\n",
       "<g id=\"edge6\" class=\"edge\"><title>3&#45;&gt;7</title>\r\n",
       "<path fill=\"none\" stroke=\"black\" d=\"M221.57,-146.834C231.75,-136.938 245.524,-123.546 257.031,-112.359\"/>\r\n",
       "<polygon fill=\"black\" stroke=\"black\" points=\"259.474,-114.865 264.204,-105.385 254.595,-109.846 259.474,-114.865\"/>\r\n",
       "</g>\r\n",
       "</g>\r\n",
       "</svg>\r\n"
      ],
      "text/plain": [
       "<graphviz.dot.Digraph at 0x2471cc87c88>"
      ]
     },
     "execution_count": 4,
     "metadata": {},
     "output_type": "execute_result"
    }
   ],
   "source": [
    "print(\"3rd Iteration\")\n",
    "heaps = Digraph()\n",
    "heaps.node(\"4\",\"4\")\n",
    "heaps.node(\"8\",\"8\")\n",
    "for i in range(2,10):\n",
    "    if i not in [4,8]: heaps.node(str(i),str(i))\n",
    "heaps.edge(\"2\", \"4\")\n",
    "heaps.edge(\"2\",\"3\")\n",
    "heaps.edge(\"4\",\"8\")\n",
    "heaps.edge(\"4\",\"5\")\n",
    "heaps.edge(\"3\",\"6\")\n",
    "heaps.edge(\"3\",\"7\")\n",
    "heaps.edge(\"8\",\"10\")\n",
    "heaps.edge(\"8\",\"9\")\n",
    "heaps"
   ]
  },
  {
   "cell_type": "code",
   "execution_count": 5,
   "metadata": {},
   "outputs": [
    {
     "name": "stdout",
     "output_type": "stream",
     "text": [
      "Initial array: [10, 5, 7, 2, 4, 3, 1, 9, 6, 8]\n",
      "Heapified array: [1, 2, 3, 5, 4, 10, 7, 9, 6, 8]\n",
      "Popped array with heap invariance: [2, 4, 3, 5, 8, 10, 7, 9, 6]\n"
     ]
    }
   ],
   "source": [
    "import heapq\n",
    "l = [10,5,7,2,4,3,1,9,6,8]\n",
    "print(\"Initial array:\", l)\n",
    "heapq.heapify(l)\n",
    "print(\"Heapified array:\", l)\n",
    "heapq.heappop(l) # pop and return smallest value from heap, maintaining invariance\n",
    "print(\"Popped array with heap invariance:\",l)\n",
    "heapq.heappush(l, 11) # push value maintaining invariance\n",
    "\n",
    "# You can push tuples (i, (x,y)) for example and it will push them with i as the minimization parameter.\n"
   ]
  },
  {
   "cell_type": "markdown",
   "metadata": {},
   "source": [
    "### 1.5) Numpy\n",
    "\n",
    "For big items lists become inefficient as opposed to C or Fortran. \n",
    "\n",
    "Numpy makes use of compiler advantages to avoid overhead in list analysis. \n",
    "\n",
    "Great for operations that are naturally vectorized."
   ]
  },
  {
   "cell_type": "code",
   "execution_count": 82,
   "metadata": {},
   "outputs": [
    {
     "name": "stdout",
     "output_type": "stream",
     "text": [
      "0.4997284510655524\n",
      "Sample matrix:\n",
      "[[1 2]\n",
      " [3 4]]\n",
      "Nesting level: 2\n",
      "Dimensions: (2, 2)\n",
      "Number of elements in matrix: 4\n",
      "\n",
      "Unique elements: [1 3 4 5 6]\n",
      "Entire Matrix:\n",
      "[[1 2 3]\n",
      " [4 5 6]\n",
      " [7 8 9]]\n",
      "Deleted columns and rows:\n",
      "[[4 6]\n",
      " [7 9]]\n"
     ]
    }
   ],
   "source": [
    "import numpy as np\n",
    "\n",
    "x = np.random.uniform(0, 1, size=1000000)\n",
    "print(x.mean())\n",
    "\n",
    "array = np.array([[1,2],\n",
    "                  [3,4]])\n",
    "\n",
    "# METHODS\n",
    "\n",
    "array = array.flatten() # columns to one single vector [1,2,3,4]\n",
    "np.vstack([[1,3],[3,4],[5,6]]) # a single vertical vector\n",
    "np.cross([1,2,3], [3,2,1]) # the length of resulting vector is the area of parallelogram of two vectors with same origin\n",
    "np.linalg.norm(np.array([[1,2,3]])) # length of vector\n",
    "\n",
    "array2 = np.array([[1,2],\n",
    "                  [3,4]])\n",
    "print(\"Sample matrix:\")\n",
    "print(array2)\n",
    "print(\"Nesting level:\",array2.ndim)\n",
    "print(\"Dimensions:\", array2.shape)\n",
    "print(\"Number of elements in matrix:\", np.size(array2))\n",
    "print()\n",
    "print(\"Unique elements:\",np.unique([[1,1,3,4,5,6,6]])) # unique elements\n",
    "\n",
    "# Rows to columns\n",
    "\n",
    "arr = [[1,2,3],\n",
    "       [4,5,6],\n",
    "       [7,8,9]]\n",
    "\n",
    "array = zip(*arr)\n",
    "list(array) # returns columns * is the unpacking operator, so it gives the first element of arrays\n",
    "\n",
    "np.square(arr) # np.square(), np.sum(), np.cumsum(), np.var(), np.mean(), np.std()\n",
    "\n",
    "# Dot product\n",
    "\n",
    "M1 = np.array([[5,7],\n",
    "               [9,9]])\n",
    "M2 = np.array([[3,7],\n",
    "               [8,1]])\n",
    "\n",
    "M1@M2 # Matrix multiplication 5*3+7*8 = 71, 5*7+7*1 = 42 ...\n",
    "\n",
    "M1+M2 # Sum elements (for square matrices)\n",
    "\n",
    "M1.transpose() # Transpose matrix\n",
    "\n",
    "# To delete columns or rows\n",
    "\n",
    "print(\"Entire Matrix:\")\n",
    "print(np.array(arr))\n",
    "aux = np.array(arr)\n",
    "aux = np.delete(aux, 1, axis=1) # columns\n",
    "aux = np.delete(aux, 0, axis=0) # rows\n",
    "print(\"Deleted columns and rows:\")\n",
    "print(aux)"
   ]
  },
  {
   "cell_type": "markdown",
   "metadata": {},
   "source": [
    "#### 1.5.1) Plotting in Numpy\n",
    "\n",
    "We can plot math functions with numpy method \"linespace\" which returns evenly spaced numbers over a specified interval. We specify the starting point of the sequence and the ending point of the sequence."
   ]
  },
  {
   "cell_type": "code",
   "execution_count": 80,
   "metadata": {},
   "outputs": [
    {
     "data": {
      "text/plain": [
       "[<matplotlib.lines.Line2D at 0x19b7f8c8748>]"
      ]
     },
     "execution_count": 80,
     "metadata": {},
     "output_type": "execute_result"
    },
    {
     "data": {
      "image/png": "[encoded data removed]",
      "text/plain": [
       "<Figure size 432x288 with 1 Axes>"
      ]
     },
     "metadata": {
      "needs_background": "light"
     },
     "output_type": "display_data"
    }
   ],
   "source": [
    "import matplotlib.pyplot as plt\n",
    "%matplotlib inline\n",
    "\n",
    "x = np.linspace(-4*np.pi, 4*np.pi, num=100)\n",
    "y = y = np.sin(x)\n",
    "plt.plot(x, y)"
   ]
  },
  {
   "cell_type": "markdown",
   "metadata": {},
   "source": [
    "### 1.6) Pandas\n",
    "\n",
    "Good package for data science and data manipulation."
   ]
  },
  {
   "cell_type": "code",
   "execution_count": 2,
   "metadata": {},
   "outputs": [
    {
     "data": {
      "text/plain": [
       "0    2\n",
       "1    4\n",
       "2    6\n",
       "3    8\n",
       "dtype: int64"
      ]
     },
     "execution_count": 2,
     "metadata": {},
     "output_type": "execute_result"
    }
   ],
   "source": [
    "import pandas as pd\n",
    "\n",
    "lst = [2,4,6,8]\n",
    "pd_ser = pd.Series(lst)\n",
    "pd_ser"
   ]
  },
  {
   "cell_type": "code",
   "execution_count": 3,
   "metadata": {},
   "outputs": [
    {
     "data": {
      "text/plain": [
       "0     2\n",
       "1     4\n",
       "2     6\n",
       "3     8\n",
       "0    10\n",
       "1    12\n",
       "2    14\n",
       "dtype: int64"
      ]
     },
     "execution_count": 3,
     "metadata": {},
     "output_type": "execute_result"
    }
   ],
   "source": [
    "# Append\n",
    "\n",
    "pd_2 = pd.Series([10,12,14])\n",
    "app = pd_ser.append(pd_2)\n",
    "app"
   ]
  },
  {
   "cell_type": "code",
   "execution_count": 15,
   "metadata": {},
   "outputs": [
    {
     "name": "stdout",
     "output_type": "stream",
     "text": [
      "0    12.0\n",
      "1    16.0\n",
      "2    20.0\n",
      "3     NaN\n",
      "dtype: float64\n",
      "Max series 1: 8\n"
     ]
    }
   ],
   "source": [
    "# Add, subtract, multiply and divide series\n",
    "#add, sub, mul, div\n",
    "\n",
    "# median, min, max\n",
    "\n",
    "print(pd_ser.add(pd_2))\n",
    "print(\"Max series 1:\", pd_ser.max())"
   ]
  },
  {
   "cell_type": "code",
   "execution_count": 6,
   "metadata": {},
   "outputs": [
    {
     "data": {
      "text/html": [
       "<div>\n",
       "<style scoped>\n",
       "    .dataframe tbody tr th:only-of-type {\n",
       "        vertical-align: middle;\n",
       "    }\n",
       "\n",
       "    .dataframe tbody tr th {\n",
       "        vertical-align: top;\n",
       "    }\n",
       "\n",
       "    .dataframe thead th {\n",
       "        text-align: right;\n",
       "    }\n",
       "</style>\n",
       "<table border=\"1\" class=\"dataframe\">\n",
       "  <thead>\n",
       "    <tr style=\"text-align: right;\">\n",
       "      <th></th>\n",
       "      <th>A</th>\n",
       "      <th>B</th>\n",
       "      <th>C</th>\n",
       "      <th>D</th>\n",
       "    </tr>\n",
       "  </thead>\n",
       "  <tbody>\n",
       "    <tr>\n",
       "      <th>0</th>\n",
       "      <td>-0.485213</td>\n",
       "      <td>2.629403</td>\n",
       "      <td>-0.011757</td>\n",
       "      <td>0.439331</td>\n",
       "    </tr>\n",
       "    <tr>\n",
       "      <th>1</th>\n",
       "      <td>2.390881</td>\n",
       "      <td>-0.648162</td>\n",
       "      <td>1.096498</td>\n",
       "      <td>0.152567</td>\n",
       "    </tr>\n",
       "    <tr>\n",
       "      <th>2</th>\n",
       "      <td>0.446197</td>\n",
       "      <td>0.597975</td>\n",
       "      <td>-2.504961</td>\n",
       "      <td>-1.235454</td>\n",
       "    </tr>\n",
       "    <tr>\n",
       "      <th>3</th>\n",
       "      <td>1.427470</td>\n",
       "      <td>0.424948</td>\n",
       "      <td>-1.881175</td>\n",
       "      <td>1.888245</td>\n",
       "    </tr>\n",
       "    <tr>\n",
       "      <th>4</th>\n",
       "      <td>0.539239</td>\n",
       "      <td>-0.603194</td>\n",
       "      <td>0.051320</td>\n",
       "      <td>-0.345799</td>\n",
       "    </tr>\n",
       "    <tr>\n",
       "      <th>5</th>\n",
       "      <td>0.928358</td>\n",
       "      <td>-1.083242</td>\n",
       "      <td>-1.157592</td>\n",
       "      <td>1.274607</td>\n",
       "    </tr>\n",
       "  </tbody>\n",
       "</table>\n",
       "</div>"
      ],
      "text/plain": [
       "          A         B         C         D\n",
       "0 -0.485213  2.629403 -0.011757  0.439331\n",
       "1  2.390881 -0.648162  1.096498  0.152567\n",
       "2  0.446197  0.597975 -2.504961 -1.235454\n",
       "3  1.427470  0.424948 -1.881175  1.888245\n",
       "4  0.539239 -0.603194  0.051320 -0.345799\n",
       "5  0.928358 -1.083242 -1.157592  1.274607"
      ]
     },
     "execution_count": 6,
     "metadata": {},
     "output_type": "execute_result"
    }
   ],
   "source": [
    "#Data Frame\n",
    "\n",
    "import numpy as np\n",
    "\n",
    "array = np.random.randn(6,4) # Random array 6 rows 4 columns\n",
    "col_names = [\"A\",\"B\",\"C\",\"D\"]\n",
    "df = pd.DataFrame(array, columns = col_names)\n",
    "df\n",
    "\n",
    "# Methods\n",
    "# df.dtypes --> type of data (bool, string, ...), it's an object not a function\n",
    "# df.head(4) --> first 4 values\n",
    "# df.tail(4) --> last 4 values \n",
    "# df.dropna(subset = ['var'], axis = 0, inplace=True) --> drop missing values and replace data frame\n",
    "# df['var'].replace(np.nan,x) --> replace missing values with x\n",
    "# df.rename(columns = {'var1' : 'var2'}, inplace = True)\n",
    "# df['var'].astype(dtype='float64', errors='ignore') --> ignore errors and keep original object\n",
    "# df['var'].get_dummies()\n",
    "\n",
    "# Binning --> grouping observations\n",
    "# bins = np.linspace(df['x'].min(),df['x'].max(),4)\n",
    "# names = [\"low\",\"medium\",\"high\"]\n",
    "# df['x_binned'] = pd.cut(df['x'],bins,labels=names,include_lowest=True)"
   ]
  },
  {
   "cell_type": "code",
   "execution_count": 56,
   "metadata": {},
   "outputs": [
    {
     "data": {
      "image/png": "[encoded data removed]",
      "text/plain": [
       "<Figure size 432x288 with 2 Axes>"
      ]
     },
     "metadata": {
      "needs_background": "light"
     },
     "output_type": "display_data"
    }
   ],
   "source": [
    "# Correlation\n",
    "from scipy import stats\n",
    "\n",
    "x = [random.uniform(0,10) for i in range(100)]\n",
    "y = [xi*3+random.uniform(-7,7) for xi in x]\n",
    "d = {'y' : y, 'x' : x}\n",
    "correl_DF = pd.DataFrame(d)\n",
    "corr, p_value = stats.pearsonr(correl_DF['x'],scat_DF['y'])\n",
    "corr,p_value\n",
    "\n",
    "plt.pcolor(correl_DF.corr(), cmap='RdBu')\n",
    "plt.colorbar()\n",
    "plt.show()"
   ]
  },
  {
   "cell_type": "code",
   "execution_count": 8,
   "metadata": {},
   "outputs": [
    {
     "data": {
      "text/html": [
       "<div>\n",
       "<style scoped>\n",
       "    .dataframe tbody tr th:only-of-type {\n",
       "        vertical-align: middle;\n",
       "    }\n",
       "\n",
       "    .dataframe tbody tr th {\n",
       "        vertical-align: top;\n",
       "    }\n",
       "\n",
       "    .dataframe thead th {\n",
       "        text-align: right;\n",
       "    }\n",
       "</style>\n",
       "<table border=\"1\" class=\"dataframe\">\n",
       "  <thead>\n",
       "    <tr style=\"text-align: right;\">\n",
       "      <th></th>\n",
       "      <th>A</th>\n",
       "      <th>B</th>\n",
       "      <th>C</th>\n",
       "      <th>D</th>\n",
       "    </tr>\n",
       "  </thead>\n",
       "  <tbody>\n",
       "    <tr>\n",
       "      <th>count</th>\n",
       "      <td>6.000000</td>\n",
       "      <td>6.000000</td>\n",
       "      <td>6.000000</td>\n",
       "      <td>6.000000</td>\n",
       "    </tr>\n",
       "    <tr>\n",
       "      <th>mean</th>\n",
       "      <td>0.874489</td>\n",
       "      <td>0.219621</td>\n",
       "      <td>-0.734611</td>\n",
       "      <td>0.362250</td>\n",
       "    </tr>\n",
       "    <tr>\n",
       "      <th>std</th>\n",
       "      <td>0.974962</td>\n",
       "      <td>1.350547</td>\n",
       "      <td>1.350617</td>\n",
       "      <td>1.119371</td>\n",
       "    </tr>\n",
       "    <tr>\n",
       "      <th>min</th>\n",
       "      <td>-0.485213</td>\n",
       "      <td>-1.083242</td>\n",
       "      <td>-2.504961</td>\n",
       "      <td>-1.235454</td>\n",
       "    </tr>\n",
       "    <tr>\n",
       "      <th>25%</th>\n",
       "      <td>0.469457</td>\n",
       "      <td>-0.636920</td>\n",
       "      <td>-1.700279</td>\n",
       "      <td>-0.221207</td>\n",
       "    </tr>\n",
       "    <tr>\n",
       "      <th>50%</th>\n",
       "      <td>0.733798</td>\n",
       "      <td>-0.089123</td>\n",
       "      <td>-0.584675</td>\n",
       "      <td>0.295949</td>\n",
       "    </tr>\n",
       "    <tr>\n",
       "      <th>75%</th>\n",
       "      <td>1.302692</td>\n",
       "      <td>0.554718</td>\n",
       "      <td>0.035551</td>\n",
       "      <td>1.065788</td>\n",
       "    </tr>\n",
       "    <tr>\n",
       "      <th>max</th>\n",
       "      <td>2.390881</td>\n",
       "      <td>2.629403</td>\n",
       "      <td>1.096498</td>\n",
       "      <td>1.888245</td>\n",
       "    </tr>\n",
       "  </tbody>\n",
       "</table>\n",
       "</div>"
      ],
      "text/plain": [
       "              A         B         C         D\n",
       "count  6.000000  6.000000  6.000000  6.000000\n",
       "mean   0.874489  0.219621 -0.734611  0.362250\n",
       "std    0.974962  1.350547  1.350617  1.119371\n",
       "min   -0.485213 -1.083242 -2.504961 -1.235454\n",
       "25%    0.469457 -0.636920 -1.700279 -0.221207\n",
       "50%    0.733798 -0.089123 -0.584675  0.295949\n",
       "75%    1.302692  0.554718  0.035551  1.065788\n",
       "max    2.390881  2.629403  1.096498  1.888245"
      ]
     },
     "execution_count": 8,
     "metadata": {},
     "output_type": "execute_result"
    }
   ],
   "source": [
    "# Summary Statistics\n",
    "df.describe()"
   ]
  },
  {
   "cell_type": "code",
   "execution_count": 22,
   "metadata": {},
   "outputs": [
    {
     "data": {
      "text/html": [
       "<div>\n",
       "<style scoped>\n",
       "    .dataframe tbody tr th:only-of-type {\n",
       "        vertical-align: middle;\n",
       "    }\n",
       "\n",
       "    .dataframe tbody tr th {\n",
       "        vertical-align: top;\n",
       "    }\n",
       "\n",
       "    .dataframe thead th {\n",
       "        text-align: right;\n",
       "    }\n",
       "</style>\n",
       "<table border=\"1\" class=\"dataframe\">\n",
       "  <thead>\n",
       "    <tr style=\"text-align: right;\">\n",
       "      <th></th>\n",
       "      <th>A</th>\n",
       "      <th>B</th>\n",
       "      <th>C</th>\n",
       "      <th>D</th>\n",
       "    </tr>\n",
       "  </thead>\n",
       "  <tbody>\n",
       "    <tr>\n",
       "      <th>4</th>\n",
       "      <td>1.381603</td>\n",
       "      <td>1.191743</td>\n",
       "      <td>-0.591418</td>\n",
       "      <td>-0.052768</td>\n",
       "    </tr>\n",
       "    <tr>\n",
       "      <th>1</th>\n",
       "      <td>-0.068625</td>\n",
       "      <td>-0.135175</td>\n",
       "      <td>-0.032397</td>\n",
       "      <td>0.561336</td>\n",
       "    </tr>\n",
       "    <tr>\n",
       "      <th>5</th>\n",
       "      <td>-0.669442</td>\n",
       "      <td>1.749392</td>\n",
       "      <td>-0.906122</td>\n",
       "      <td>1.572677</td>\n",
       "    </tr>\n",
       "    <tr>\n",
       "      <th>2</th>\n",
       "      <td>-1.031190</td>\n",
       "      <td>-0.002987</td>\n",
       "      <td>-1.343089</td>\n",
       "      <td>-0.874983</td>\n",
       "    </tr>\n",
       "    <tr>\n",
       "      <th>3</th>\n",
       "      <td>-1.454343</td>\n",
       "      <td>0.322771</td>\n",
       "      <td>0.650970</td>\n",
       "      <td>1.723183</td>\n",
       "    </tr>\n",
       "    <tr>\n",
       "      <th>0</th>\n",
       "      <td>-1.858493</td>\n",
       "      <td>-0.193800</td>\n",
       "      <td>2.211238</td>\n",
       "      <td>-0.534670</td>\n",
       "    </tr>\n",
       "  </tbody>\n",
       "</table>\n",
       "</div>"
      ],
      "text/plain": [
       "          A         B         C         D\n",
       "4  1.381603  1.191743 -0.591418 -0.052768\n",
       "1 -0.068625 -0.135175 -0.032397  0.561336\n",
       "5 -0.669442  1.749392 -0.906122  1.572677\n",
       "2 -1.031190 -0.002987 -1.343089 -0.874983\n",
       "3 -1.454343  0.322771  0.650970  1.723183\n",
       "0 -1.858493 -0.193800  2.211238 -0.534670"
      ]
     },
     "execution_count": 22,
     "metadata": {},
     "output_type": "execute_result"
    }
   ],
   "source": [
    "# Sort\n",
    "\n",
    "df.sort_values(by = [\"A\",\"B\"], ascending=False)"
   ]
  },
  {
   "cell_type": "code",
   "execution_count": 23,
   "metadata": {},
   "outputs": [
    {
     "data": {
      "text/html": [
       "<div>\n",
       "<style scoped>\n",
       "    .dataframe tbody tr th:only-of-type {\n",
       "        vertical-align: middle;\n",
       "    }\n",
       "\n",
       "    .dataframe tbody tr th {\n",
       "        vertical-align: top;\n",
       "    }\n",
       "\n",
       "    .dataframe thead th {\n",
       "        text-align: right;\n",
       "    }\n",
       "</style>\n",
       "<table border=\"1\" class=\"dataframe\">\n",
       "  <thead>\n",
       "    <tr style=\"text-align: right;\">\n",
       "      <th></th>\n",
       "      <th>A</th>\n",
       "      <th>D</th>\n",
       "    </tr>\n",
       "  </thead>\n",
       "  <tbody>\n",
       "    <tr>\n",
       "      <th>0</th>\n",
       "      <td>-1.858493</td>\n",
       "      <td>-0.534670</td>\n",
       "    </tr>\n",
       "    <tr>\n",
       "      <th>1</th>\n",
       "      <td>-0.068625</td>\n",
       "      <td>0.561336</td>\n",
       "    </tr>\n",
       "    <tr>\n",
       "      <th>2</th>\n",
       "      <td>-1.031190</td>\n",
       "      <td>-0.874983</td>\n",
       "    </tr>\n",
       "    <tr>\n",
       "      <th>3</th>\n",
       "      <td>-1.454343</td>\n",
       "      <td>1.723183</td>\n",
       "    </tr>\n",
       "    <tr>\n",
       "      <th>4</th>\n",
       "      <td>1.381603</td>\n",
       "      <td>-0.052768</td>\n",
       "    </tr>\n",
       "    <tr>\n",
       "      <th>5</th>\n",
       "      <td>-0.669442</td>\n",
       "      <td>1.572677</td>\n",
       "    </tr>\n",
       "  </tbody>\n",
       "</table>\n",
       "</div>"
      ],
      "text/plain": [
       "          A         D\n",
       "0 -1.858493 -0.534670\n",
       "1 -0.068625  0.561336\n",
       "2 -1.031190 -0.874983\n",
       "3 -1.454343  1.723183\n",
       "4  1.381603 -0.052768\n",
       "5 -0.669442  1.572677"
      ]
     },
     "execution_count": 23,
     "metadata": {},
     "output_type": "execute_result"
    }
   ],
   "source": [
    " # Slice or select subset of columns\n",
    "    \n",
    "df[[\"A\",\"D\"]]"
   ]
  },
  {
   "cell_type": "code",
   "execution_count": 9,
   "metadata": {},
   "outputs": [
    {
     "name": "stdout",
     "output_type": "stream",
     "text": [
      "   col1 col2\n",
      "0     1    A\n",
      "1     2    B\n",
      "2     3    C\n",
      "3     3    D\n",
      "Unique values of col1: [1 2 3]\n",
      "Smaller than 3 in col1\n",
      "0     True\n",
      "1     True\n",
      "2    False\n",
      "3    False\n",
      "Name: col1, dtype: bool\n",
      "Variable (columns) types:\n",
      "col1     int64\n",
      "col2    object\n",
      "dtype: object\n"
     ]
    }
   ],
   "source": [
    "#Useful methods\n",
    "#A dictionary can be turned to dataframe, colnames are keys and values is correspondent list\n",
    "\n",
    "dic_example = {\"col1\":[1,2,3,3],\n",
    "               \"col2\":[\"A\",\"B\",\"C\",\"D\"]}\n",
    "pandas_dict = pd.DataFrame(dic_example)\n",
    "print(pandas_dict)\n",
    "\n",
    "#Slicing\n",
    "pandas_dict.iloc[0:2,0:2]\n",
    "\n",
    "#Unique values\n",
    "print(\"Unique values of col1:\", pandas_dict.iloc[0:,0].unique())\n",
    "\n",
    "#Operators, return array of booleans\n",
    "print(\"Smaller than 3 in col1\")\n",
    "print(pandas_dict[\"col1\"]<3)\n",
    "filt = pandas_dict['col1']<3\n",
    "pandas_dict[filt]\n",
    "print(\"Variable (columns) types:\")\n",
    "print(pandas_dict.dtypes)"
   ]
  },
  {
   "cell_type": "code",
   "execution_count": 10,
   "metadata": {},
   "outputs": [
    {
     "data": {
      "text/plain": [
       "D    1\n",
       "A    1\n",
       "B    1\n",
       "C    1\n",
       "Name: col2, dtype: int64"
      ]
     },
     "execution_count": 10,
     "metadata": {},
     "output_type": "execute_result"
    }
   ],
   "source": [
    "# Categorical variables (count if)\n",
    "\n",
    "n_categ_col2 = pandas_dict['col2'].value_counts()\n",
    "n_categ_col2"
   ]
  },
  {
   "cell_type": "code",
   "execution_count": 17,
   "metadata": {},
   "outputs": [
    {
     "data": {
      "text/plain": [
       "<matplotlib.axes._subplots.AxesSubplot at 0x1abdbe0ac88>"
      ]
     },
     "execution_count": 17,
     "metadata": {},
     "output_type": "execute_result"
    },
    {
     "data": {
      "image/png": "[encoded data removed]",
      "text/plain": [
       "<Figure size 432x288 with 1 Axes>"
      ]
     },
     "metadata": {
      "needs_background": "light"
     },
     "output_type": "display_data"
    }
   ],
   "source": [
    "#Boxplot\n",
    "import random\n",
    "import seaborn as sns\n",
    "\n",
    "cars = [random.choice([\"C1\",\"C2\",\"C3\"]) for i in range(1000)]\n",
    "values = [random.choice(range(10)) for i in range(1000)]\n",
    "d = {'Cars' : cars, 'Price' : values}\n",
    "cars_DF = pd.DataFrame(d)\n",
    "cars_DF.head()\n",
    "\n",
    "sns.boxplot(x = 'Cars', y = 'Price', data = cars_DF)"
   ]
  },
  {
   "cell_type": "code",
   "execution_count": 26,
   "metadata": {},
   "outputs": [
    {
     "data": {
      "text/plain": [
       "Text(0, 0.5, 'y')"
      ]
     },
     "execution_count": 26,
     "metadata": {},
     "output_type": "execute_result"
    },
    {
     "data": {
      "image/png": "[encoded data removed]",
      "text/plain": [
       "<Figure size 432x288 with 1 Axes>"
      ]
     },
     "metadata": {
      "needs_background": "light"
     },
     "output_type": "display_data"
    }
   ],
   "source": [
    "#Scatterplot\n",
    "import matplotlib.pyplot as plt\n",
    "\n",
    "x = [random.uniform(0,10) for i in range(100)]\n",
    "y = [xi*3+random.uniform(-3,3) for xi in x]\n",
    "d = {'y' : y, 'x' : x}\n",
    "scat_DF = pd.DataFrame(d)\n",
    "sct = plt.scatter(scat_DF['x'],scat_DF['y'])\n",
    "plt.title(\"Scatter Example\")\n",
    "plt.xlabel(\"x\")\n",
    "plt.ylabel(\"y\")"
   ]
  },
  {
   "cell_type": "code",
   "execution_count": 50,
   "metadata": {},
   "outputs": [
    {
     "data": {
      "text/html": [
       "<div>\n",
       "<style scoped>\n",
       "    .dataframe tbody tr th:only-of-type {\n",
       "        vertical-align: middle;\n",
       "    }\n",
       "\n",
       "    .dataframe tbody tr th {\n",
       "        vertical-align: top;\n",
       "    }\n",
       "\n",
       "    .dataframe thead th {\n",
       "        text-align: right;\n",
       "    }\n",
       "</style>\n",
       "<table border=\"1\" class=\"dataframe\">\n",
       "  <thead>\n",
       "    <tr style=\"text-align: right;\">\n",
       "      <th></th>\n",
       "      <th>group1</th>\n",
       "      <th>group2</th>\n",
       "      <th>y</th>\n",
       "    </tr>\n",
       "  </thead>\n",
       "  <tbody>\n",
       "    <tr>\n",
       "      <th>0</th>\n",
       "      <td>G11</td>\n",
       "      <td>G21</td>\n",
       "      <td>0.007435</td>\n",
       "    </tr>\n",
       "    <tr>\n",
       "      <th>1</th>\n",
       "      <td>G11</td>\n",
       "      <td>G22</td>\n",
       "      <td>0.152497</td>\n",
       "    </tr>\n",
       "    <tr>\n",
       "      <th>2</th>\n",
       "      <td>G12</td>\n",
       "      <td>G21</td>\n",
       "      <td>1.819683</td>\n",
       "    </tr>\n",
       "    <tr>\n",
       "      <th>3</th>\n",
       "      <td>G12</td>\n",
       "      <td>G22</td>\n",
       "      <td>3.249532</td>\n",
       "    </tr>\n",
       "    <tr>\n",
       "      <th>4</th>\n",
       "      <td>G13</td>\n",
       "      <td>G21</td>\n",
       "      <td>4.176339</td>\n",
       "    </tr>\n",
       "    <tr>\n",
       "      <th>5</th>\n",
       "      <td>G13</td>\n",
       "      <td>G22</td>\n",
       "      <td>5.405160</td>\n",
       "    </tr>\n",
       "  </tbody>\n",
       "</table>\n",
       "</div>"
      ],
      "text/plain": [
       "  group1 group2         y\n",
       "0    G11    G21  0.007435\n",
       "1    G11    G22  0.152497\n",
       "2    G12    G21  1.819683\n",
       "3    G12    G22  3.249532\n",
       "4    G13    G21  4.176339\n",
       "5    G13    G22  5.405160"
      ]
     },
     "execution_count": 50,
     "metadata": {},
     "output_type": "execute_result"
    }
   ],
   "source": [
    "# Group by\n",
    "\n",
    "group1 = [random.choice([\"G11\",\"G12\",\"G13\"]) for i in range(100)]\n",
    "group2 = [random.choice([\"G21\",\"G22\"]) for i in range(100)]\n",
    "groups = {key: i for i,key in enumerate([i+j for i in [\"G11\",\"G12\",\"G13\"] for j in [\"G21\",\"G22\"]])}\n",
    "y = [groups[i+j]+random.uniform(-3,3) for i,j in zip(group1,group2)]\n",
    "g_by = pd.DataFrame({'group1':group1,'group2':group2,'y':y})\n",
    "grouped = g_by.groupby(['group1','group2'], as_index=False).mean()\n",
    "grouped"
   ]
  },
  {
   "cell_type": "markdown",
   "metadata": {},
   "source": [
    "To have Group1 in rows and Group2 in columns to display a table or matrix you can use the pivot method."
   ]
  },
  {
   "cell_type": "code",
   "execution_count": 40,
   "metadata": {},
   "outputs": [
    {
     "data": {
      "text/html": [
       "<div>\n",
       "<style scoped>\n",
       "    .dataframe tbody tr th:only-of-type {\n",
       "        vertical-align: middle;\n",
       "    }\n",
       "\n",
       "    .dataframe tbody tr th {\n",
       "        vertical-align: top;\n",
       "    }\n",
       "\n",
       "    .dataframe thead tr th {\n",
       "        text-align: left;\n",
       "    }\n",
       "\n",
       "    .dataframe thead tr:last-of-type th {\n",
       "        text-align: right;\n",
       "    }\n",
       "</style>\n",
       "<table border=\"1\" class=\"dataframe\">\n",
       "  <thead>\n",
       "    <tr>\n",
       "      <th></th>\n",
       "      <th colspan=\"2\" halign=\"left\">y</th>\n",
       "    </tr>\n",
       "    <tr>\n",
       "      <th>group2</th>\n",
       "      <th>G21</th>\n",
       "      <th>G22</th>\n",
       "    </tr>\n",
       "    <tr>\n",
       "      <th>group1</th>\n",
       "      <th></th>\n",
       "      <th></th>\n",
       "    </tr>\n",
       "  </thead>\n",
       "  <tbody>\n",
       "    <tr>\n",
       "      <th>G11</th>\n",
       "      <td>0.198105</td>\n",
       "      <td>0.632313</td>\n",
       "    </tr>\n",
       "    <tr>\n",
       "      <th>G12</th>\n",
       "      <td>2.166562</td>\n",
       "      <td>3.707402</td>\n",
       "    </tr>\n",
       "    <tr>\n",
       "      <th>G13</th>\n",
       "      <td>3.849754</td>\n",
       "      <td>5.529988</td>\n",
       "    </tr>\n",
       "  </tbody>\n",
       "</table>\n",
       "</div>"
      ],
      "text/plain": [
       "               y          \n",
       "group2       G21       G22\n",
       "group1                    \n",
       "G11     0.198105  0.632313\n",
       "G12     2.166562  3.707402\n",
       "G13     3.849754  5.529988"
      ]
     },
     "execution_count": 40,
     "metadata": {},
     "output_type": "execute_result"
    }
   ],
   "source": [
    "pivot = grouped.pivot(index='group1', columns='group2')\n",
    "pivot"
   ]
  },
  {
   "cell_type": "code",
   "execution_count": 47,
   "metadata": {},
   "outputs": [
    {
     "data": {
      "image/png": "[encoded data removed]",
      "text/plain": [
       "<Figure size 432x288 with 2 Axes>"
      ]
     },
     "metadata": {
      "needs_background": "light"
     },
     "output_type": "display_data"
    }
   ],
   "source": [
    "#Heatmap\n",
    "#Heatmap works with a matrix in general, list of lists, np.array, etc. \n",
    "\n",
    "plt.pcolor(pivot, cmap = 'RdBu')\n",
    "plt.colorbar()\n",
    "plt.show()"
   ]
  },
  {
   "cell_type": "code",
   "execution_count": 29,
   "metadata": {},
   "outputs": [],
   "source": [
    "# Read CSV, excel\n",
    "\n",
    "df.to_csv('data.csv')\n",
    "csv = pd.read_csv('data.csv')\n",
    "csv\n",
    "# excel = pd.read_excel('path/data.csv')"
   ]
  },
  {
   "cell_type": "markdown",
   "metadata": {},
   "source": [
    "### 1.7) OPENPYXL\n",
    "\n",
    "Good for excel manipulation"
   ]
  },
  {
   "cell_type": "code",
   "execution_count": 179,
   "metadata": {},
   "outputs": [
    {
     "name": "stdout",
     "output_type": "stream",
     "text": [
      "Openpyxl Version:  2.6.1\n"
     ]
    },
    {
     "data": {
      "text/plain": [
       "<Cell 'CE 1999'.A1>"
      ]
     },
     "execution_count": 179,
     "metadata": {},
     "output_type": "execute_result"
    }
   ],
   "source": [
    "#In Anaconda prompt: >>> pip install openpyxl\n",
    "\n",
    "import openpyxl\n",
    "print(\"Openpyxl Version: \", openpyxl.__version__)\n",
    "import os #Define the working path\n",
    "os.chdir(\"C:\\\\Users\\\\hheim\\\\Downloads\") #Slash for escaping\n",
    "working_book = openpyxl.load_workbook(\"CE1999.xlsx\")\n",
    "\n",
    "#Get Sheets\n",
    "sheets = working_book.sheetnames\n",
    "CE99 = working_book[sheets[0]]"
   ]
  },
  {
   "cell_type": "code",
   "execution_count": 191,
   "metadata": {},
   "outputs": [
    {
     "data": {
      "text/plain": [
       "True"
      ]
     },
     "execution_count": 191,
     "metadata": {},
     "output_type": "execute_result"
    }
   ],
   "source": [
    "#Values\n",
    "\n",
    "CE99['D55'].value == CE99.cell(row=55,column=4).value\n",
    "\n",
    "#Change value with\n",
    "#>>> CE99['D55'].value = 5050"
   ]
  },
  {
   "cell_type": "markdown",
   "metadata": {},
   "source": [
    "## 2) Strings\n",
    "\n",
    "Strings are iterables in Python; you can reference index, etc."
   ]
  },
  {
   "cell_type": "code",
   "execution_count": 131,
   "metadata": {},
   "outputs": [
    {
     "name": "stdout",
     "output_type": "stream",
     "text": [
      "5.00\n"
     ]
    }
   ],
   "source": [
    "# METHODS\n",
    "\n",
    "'Hector' + ' Hernandez' # “Hector Hernandez”\n",
    "'Hector'.zfill(10) # “0000Hector” Fill with zeros until you have length 10 string\n",
    "str_list = 'Hello world'.split(\" \") # [“Hello”, “world”]\n",
    "stri = list('Hecc') # [“H”,”e”,”c”,”c”]\n",
    "''.join('yes yes') # “yesyes” it could be a list as well\n",
    "\"abc\".upper() # upper case\n",
    "\"ABC\".lower() # lower case\n",
    "\"hello world\".title().replace(\" \", \"\")  # HelloWorld\n",
    "\"a a a a a\".count(\"a\") # returns 5 count of \"a\"\n",
    "\"hector\".replace('h', 'H', 1) # “Hector”\n",
    "'hectoraaabac'.rstrip('abc')  # Remove trailing characters from the right side --> hector\n",
    "\n",
    "\n",
    "import string\n",
    "\n",
    "'Hello! you.'.translate(str.maketrans('', '', string.punctuation)) # remove punctuation “Hello you”\n",
    "\n",
    "#Unique elements\n",
    "\n",
    "s = \"HectorHdez\"\n",
    "set(s) # unique elements of the set\n",
    "sorted(set(s.split()), key = s.index) # if sorting matters\n",
    "sorted(s, reverse=True)\n",
    "\n",
    "# Float decimals\n",
    "\n",
    "print('%.2f' % 5) # 5.00\n",
    "\n",
    "# String Glue\n",
    "\n",
    "shepherd = \"Jonny\"\n",
    "age = 25\n",
    "stuff_in_string = \"Shepherd %s is %d years old.\" % (shepherd, age) \n"
   ]
  },
  {
   "cell_type": "markdown",
   "metadata": {},
   "source": [
    "### Regular Expressions\n",
    "\n",
    "https://www.w3schools.com/python/python_regex.asp"
   ]
  },
  {
   "cell_type": "code",
   "execution_count": 132,
   "metadata": {},
   "outputs": [
    {
     "data": {
      "text/plain": [
       "5"
      ]
     },
     "execution_count": 132,
     "metadata": {},
     "output_type": "execute_result"
    }
   ],
   "source": [
    "import re\n",
    "\n",
    "re.findall('s', 'stringss') # [“s”, “s”, “s”]\n",
    "re.search('\\d', 'strin6gst5').group()  # first match of a digit in string --> “6”\n",
    "'string'.find('g') # position of character --> 5"
   ]
  },
  {
   "cell_type": "markdown",
   "metadata": {},
   "source": [
    "## 3) OBJECT ORIENTED PROGRAMMING\n",
    "\n",
    "Attributes: color, shape, etc.\n",
    "\n",
    "Methods: collision, distance, etc. (functions that only work with the class)."
   ]
  },
  {
   "cell_type": "code",
   "execution_count": 7,
   "metadata": {},
   "outputs": [
    {
     "name": "stdout",
     "output_type": "stream",
     "text": [
      "reverse sum is:  -5\n",
      "Distance between (0,0) and (1,1): 2.8284271247461903\n",
      "Is origin data a class coordinate: True\n",
      "Hello ( 1 )\n"
     ]
    },
    {
     "data": {
      "text/plain": [
       "1.4142135623730951"
      ]
     },
     "execution_count": 7,
     "metadata": {},
     "output_type": "execute_result"
    }
   ],
   "source": [
    "class coordinates(object): # object is most basic python element (coordinate is a subclass of object)\n",
    "    def __init__(self, x=0, y=0): # attributes (a special method) when you create instance of coordinates it calls this method first\n",
    "        self.x = x\n",
    "        self.y = y\n",
    "    def distance(self, other):\n",
    "        x_dif_sq = float((self.x - other.x)**2)\n",
    "        y_dif_sq = float((self.y - other.y)**2)\n",
    "        return (x_dif_sq + y_dif_sq)**.5\n",
    "    def __str__(self): # special method that tells Python what to print\n",
    "        return str(self.x)+','+str(self.y)\n",
    "    \n",
    "class coor3d(coordinates): #subclass of coordinates which inherits methods and attributes\n",
    "    def trial(self):\n",
    "        print(\"Hello\",\"(\",self.x,\")\")\n",
    "        \n",
    "class reverse(int): #special methods\n",
    "    def __add__(self,other):\n",
    "        return self-other\n",
    "    \n",
    "i = reverse(5)\n",
    "j = reverse(10)\n",
    "\n",
    "print(\"reverse sum is: \", i+j)\n",
    "\n",
    "p1 = coordinates(1,1)\n",
    "p1.x = 2 #Change attributes of p1\n",
    "p1.y = 2\n",
    "\n",
    "origin = coordinates()\n",
    "print('Distance between (0,0) and (1,1):', p1.distance(origin))\n",
    "\n",
    "print(\"Is origin data a class coordinate:\", isinstance(origin, coordinates))\n",
    "\n",
    "p3d = coor3d(1,1)\n",
    "p3d.trial()\n",
    "p3d.distance(p1)"
   ]
  },
  {
   "cell_type": "code",
   "execution_count": 19,
   "metadata": {},
   "outputs": [
    {
     "name": "stdout",
     "output_type": "stream",
     "text": [
      "Remaining health is: 80\n"
     ]
    }
   ],
   "source": [
    "class zombie(object):\n",
    "    def __init__(self, health, damage):\n",
    "        self.health = health\n",
    "        self.damage = damage\n",
    "    def take_damage(self):\n",
    "        self.health -= 20\n",
    "        print(\"Remaining health is:\", self.health)\n",
    "        \n",
    "rob = zombie(100,30)\n",
    "rob.take_damage()"
   ]
  },
  {
   "cell_type": "markdown",
   "metadata": {},
   "source": [
    "You can also redefine special methods from other classes"
   ]
  },
  {
   "cell_type": "code",
   "execution_count": 141,
   "metadata": {},
   "outputs": [
    {
     "name": "stdout",
     "output_type": "stream",
     "text": [
      "{'a': 1, 'b': 3} {'a': 3, 'b': 4}  sum of values in keys: {'a': 4, 'b': 7}\n"
     ]
    }
   ],
   "source": [
    "class sum_dict(dict): #Parent class is dictionary\n",
    "    def __add__(self, other): #you redefine what happens when you do '+'\n",
    "        out = {}\n",
    "        for key, value in self.items():\n",
    "            out[key] = self[key]+other[key]\n",
    "        return sum_dict(out)\n",
    "    \n",
    "d1 = sum_dict({\"a\": 1, \"b\": 3})\n",
    "d2 = sum_dict({\"a\": 3, \"b\": 4})\n",
    "\n",
    "print(d1,d2,\" sum of values in keys:\", d1+d2)"
   ]
  },
  {
   "cell_type": "code",
   "execution_count": 82,
   "metadata": {},
   "outputs": [
    {
     "data": {
      "text/plain": [
       "array([[0, 0, 0, 0, 0, 0, 0, 0],\n",
       "       [P:2, 0, 0, 0, 0, 0, 0, 0],\n",
       "       [0, 0, 0, 0, 0, 0, 0, 0],\n",
       "       [P:2, 0, 0, 0, Z:10, 0, 0, 0],\n",
       "       [P:1, 0, 0, 0, 0, 0, 0, 0]], dtype=object)"
      ]
     },
     "execution_count": 82,
     "metadata": {},
     "output_type": "execute_result"
    }
   ],
   "source": [
    "import numpy as np\n",
    "\n",
    "class zombies(object):\n",
    "    def __init__(self,health,x,y,turn):\n",
    "        self.health = health\n",
    "        self.x = x\n",
    "        self.y = y\n",
    "        self.turn = turn\n",
    "    def move_left(self):\n",
    "        self.y -= 1\n",
    "    def take_damage(self, damage):\n",
    "        if damage > health:\n",
    "            self.health = 0\n",
    "            return \"Hello\"\n",
    "        else: \n",
    "            self.health -= damage\n",
    "    def __repr__(self):\n",
    "        return \"Z:\"+str(self.health)\n",
    "            \n",
    "class plants(object):\n",
    "    def __init__(self,x,y,damage):\n",
    "        self.x = x\n",
    "        self.y = y\n",
    "        self.damage = damage\n",
    "    def die(self,zombies):\n",
    "        for zombie in zombies:\n",
    "            if (zombie.x,zombie.y) == (self.x,self.y):\n",
    "                return True\n",
    "    def __repr__(self):\n",
    "        return \"P:\"+str(self.damage)\n",
    "\n",
    "\n",
    "z1 = zombies(10,3,4,0)\n",
    "z2 = zombies(5,4,6,1)\n",
    "z3 = zombies(3,1,7,2)\n",
    "z = [z1,z2,z3]\n",
    "\n",
    "p1 = plants(3,0,2)\n",
    "p2 = plants(4,0,1)\n",
    "p3 = plants(1,0,2)\n",
    "p = [p1,p2,p3]\n",
    "\n",
    "grid = np.array([[0]*8]*5, dtype=object)\n",
    "turn = 0\n",
    "\n",
    "for zombie, plant in zip(z,p):\n",
    "    if zombie.turn == turn:\n",
    "        grid[zombie.x,zombie.y] = zombie\n",
    "    grid[plant.x,plant.y]=plant\n",
    "       \n",
    "grid"
   ]
  },
  {
   "cell_type": "code",
   "execution_count": 9,
   "metadata": {},
   "outputs": [
    {
     "data": {
      "text/plain": [
       "2"
      ]
     },
     "execution_count": 9,
     "metadata": {},
     "output_type": "execute_result"
    }
   ],
   "source": [
    "#Implement a default list similar to defaultdict\n",
    "\n",
    "class DefaultList(list):\n",
    "    def __init__(self,it, default):\n",
    "        super().__init__(it) #super() allows you to call methods from the superclass (list)\n",
    "        self.default=default\n",
    "    \n",
    "    def __getitem__(self,i):\n",
    "        try: return super().__getitem__(i-1)\n",
    "        except IndexError: return self.default\n",
    "        \n",
    "a = DefaultList([1,2,3],\"D\")\n",
    "a[2]"
   ]
  },
  {
   "cell_type": "code",
   "execution_count": 156,
   "metadata": {},
   "outputs": [
    {
     "name": "stdout",
     "output_type": "stream",
     "text": [
      "[[0 0 0 0 0 0 0]\n",
      " [0 0 0 0 0 0 0]\n",
      " [0 0 0 0 0 0 0]\n",
      " [0 0 0 0 0 0 0]\n",
      " [0 0 0 0 0 0 0]\n",
      " [0 0 0 0 0 1 0]]\n",
      "[[0 0 0 0 0 0 0]\n",
      " [0 0 0 0 0 0 0]\n",
      " [0 0 0 0 0 0 0]\n",
      " [0 0 0 0 0 0 0]\n",
      " [0 0 0 0 0 0 0]\n",
      " [0 0 0 0 2 1 0]]\n",
      "[[0 0 0 0 0 0 0]\n",
      " [0 0 0 0 0 0 0]\n",
      " [0 0 0 0 0 0 0]\n",
      " [0 0 0 0 0 0 0]\n",
      " [0 0 0 0 1 0 0]\n",
      " [0 0 0 0 2 1 0]]\n",
      "[[0 0 0 0 0 0 0]\n",
      " [0 0 0 0 0 0 0]\n",
      " [0 0 0 0 0 0 0]\n",
      " [0 0 0 0 0 0 0]\n",
      " [0 0 0 0 1 0 0]\n",
      " [0 0 0 2 2 1 0]]\n",
      "[[0 0 0 0 0 0 0]\n",
      " [0 0 0 0 0 0 0]\n",
      " [0 0 0 0 0 0 0]\n",
      " [0 0 0 0 0 0 0]\n",
      " [0 0 0 1 1 0 0]\n",
      " [0 0 0 2 2 1 0]]\n",
      "[[0 0 0 0 0 0 0]\n",
      " [0 0 0 0 0 0 0]\n",
      " [0 0 0 0 0 0 0]\n",
      " [0 0 0 0 0 0 0]\n",
      " [0 0 0 1 1 0 0]\n",
      " [0 0 2 2 2 1 0]]\n",
      "[[0 0 0 0 0 0 0]\n",
      " [0 0 0 0 0 0 0]\n",
      " [0 0 0 0 0 0 0]\n",
      " [0 0 0 1 0 0 0]\n",
      " [0 0 0 1 1 0 0]\n",
      " [0 0 2 2 2 1 0]]\n",
      "[[0 0 0 0 0 0 0]\n",
      " [0 0 0 0 0 0 0]\n",
      " [0 0 0 0 0 0 0]\n",
      " [0 0 0 1 0 0 0]\n",
      " [0 0 2 1 1 0 0]\n",
      " [0 0 2 2 2 1 0]]\n",
      "[[0 0 0 0 0 0 0]\n",
      " [0 0 0 0 0 0 0]\n",
      " [0 0 0 0 0 0 0]\n",
      " [0 0 1 1 0 0 0]\n",
      " [0 0 2 1 1 0 0]\n",
      " [0 0 2 2 2 1 0]]\n",
      "[[0 0 0 0 0 0 0]\n",
      " [0 0 0 0 0 0 0]\n",
      " [0 0 0 0 0 0 0]\n",
      " [0 0 1 1 0 0 0]\n",
      " [0 0 2 1 1 0 0]\n",
      " [2 0 2 2 2 1 0]]\n",
      "[[0 0 0 0 0 0 0]\n",
      " [0 0 0 0 0 0 0]\n",
      " [0 0 1 0 0 0 0]\n",
      " [0 0 1 1 0 0 0]\n",
      " [0 0 2 1 1 0 0]\n",
      " [2 0 2 2 2 1 0]]\n"
     ]
    },
    {
     "data": {
      "text/plain": [
       "'Player 1 wins!'"
      ]
     },
     "execution_count": 156,
     "metadata": {},
     "output_type": "execute_result"
    }
   ],
   "source": [
    "#4 in a row game\n",
    "\n",
    "import numpy as np\n",
    "\n",
    "class Connect4(object):\n",
    "\n",
    "    def __init__(self):\n",
    "        self.grid = [[0 for col in range(7)] for row in range(6)]\n",
    "        self.player = 1\n",
    "        self.finish = False\n",
    "        \n",
    "    def win_condition(self,row,col):\n",
    "        #Check rows\n",
    "        for i in range(5):\n",
    "            try:\n",
    "                if self.grid[row][col-4+i:col+i] == [self.player]*4:\n",
    "                    return True\n",
    "            except IndexError:\n",
    "                continue\n",
    "                \n",
    "        #Check cols\n",
    "        for i in range(5):\n",
    "            try:\n",
    "                if list(zip(*self.grid))[col][row-4+i:row+i] == tuple([self.player]*4):\n",
    "                    return True\n",
    "            except IndexError:\n",
    "                continue\n",
    "                \n",
    "        #Check diagonal +\n",
    "        for i in range(4):\n",
    "            try:\n",
    "                if [self.grid[row+j-i][col-j+i] for j in range(4) if 0<=row+j-i<=5 and 0<=col-j+i<=6] == [self.player]*4:\n",
    "                    return True\n",
    "            except IndexError:\n",
    "                continue\n",
    "        \n",
    "        #Check diagonal -\n",
    "        for i in range(4):\n",
    "            try:\n",
    "                if [self.grid[row-j+i][col-j+i] for j in range(4) if 0<=row-j+i<=5 and 0<=col-j+i<=6] == [self.player]*4:\n",
    "                    return True\n",
    "            except IndexError:\n",
    "                continue\n",
    "                \n",
    "        return False    \n",
    "\n",
    "\n",
    "    def play(self, col):\n",
    "        if self.finish:\n",
    "            return \"Game has finished!\"\n",
    "        \n",
    "        else:\n",
    "            for i in range(6):\n",
    "\n",
    "                #Column Full\n",
    "                if self.grid[0][col] != 0:\n",
    "                    return \"Column full!\"\n",
    "\n",
    "                #If column is empty\n",
    "                if list(zip(*self.grid))[col] == (0,0,0,0,0,0):\n",
    "                    self.grid[5][col] = self.player\n",
    "                    print(np.array(self.grid))\n",
    "                    if self.win_condition(5,col):\n",
    "                        self.finish = True\n",
    "                        return \"Player \"+str(self.player)+\" wins!\"\n",
    "                    out = \"Player \"+str(self.player)+\" has a turn\"\n",
    "                    if self.player == 1:\n",
    "                        self.player = 2\n",
    "                    else:\n",
    "                        self.player = 1\n",
    "                    return out\n",
    "\n",
    "                #If column is partially filled\n",
    "                if self.grid[i+1][col] != 0:\n",
    "                    self.grid[i][col] = self.player\n",
    "                    print(np.array(self.grid))\n",
    "                    if self.win_condition(i,col):\n",
    "                        self.finish = True\n",
    "                        return \"Player \"+str(self.player)+\" wins!\"\n",
    "                    out = \"Player \"+str(self.player)+\" has a turn\"\n",
    "                    if self.player == 1:\n",
    "                        self.player = 2\n",
    "                    else:\n",
    "                        self.player = 1\n",
    "                    return out\n",
    "        \n",
    "    \n",
    "b = Connect4()\n",
    "b.play(5)\n",
    "b.play(4)\n",
    "b.play(4)\n",
    "b.play(3)\n",
    "b.play(3)\n",
    "b.play(2)\n",
    "b.play(3)\n",
    "b.play(2)\n",
    "b.play(2)\n",
    "b.play(0)\n",
    "b.play(2)"
   ]
  },
  {
   "cell_type": "markdown",
   "metadata": {},
   "source": [
    "## 4) Algorithms\n",
    "\n",
    "### Breadth First Search\n",
    "\n",
    "Imagine you have maze \n",
    "\n",
    "        [0,0,0,1,1,1]\n",
    "        [0,1,0,1,0,1]\n",
    "        [0,1,0,0,0,1]\n",
    "        [1,1,1,1,0,0]\n",
    "\n",
    "Start at (0,0) and look at its children, add (0,0) to nodes visited and create list of children.\n",
    "<br>\n",
    "For children (1,0) you can go to (2,0), add (1,0) to visited and (2,0) to nodes to visit.\n",
    "<br>\n",
    "For children (0,1) you can go to (0,2), add (0,1) to visited and (0,2) to nodes to visit.\n",
    "<br>\n",
    "For node (2,0) you can’t move (visited and ones blocking)\n",
    "<br>\n",
    "For node (0,2) you can move to (1,2) add it to nodes to visit.\n",
    "<br>\n",
    "And so on\n",
    "<br>\n",
    "If there are no nodes to visit it means you’ve traversed all of the possible children"
   ]
  },
  {
   "cell_type": "code",
   "execution_count": 54,
   "metadata": {},
   "outputs": [
    {
     "data": {
      "text/plain": [
       "['right', 'right', 'down', 'down', 'right', 'right', 'down', 'right']"
      ]
     },
     "execution_count": 54,
     "metadata": {},
     "output_type": "execute_result"
    }
   ],
   "source": [
    "from operator import add\n",
    "from operator import sub\n",
    "\n",
    "maze = [[0,0,0,1,1,1],\n",
    "        [0,1,0,1,0,1],\n",
    "        [0,1,0,0,0,1],\n",
    "        [1,1,1,1,0,0]]\n",
    "\n",
    "directions = {(1,0) : \"down\",\n",
    "             (0,1) : \"right\",\n",
    "             (-1,0) : \"up\",\n",
    "             (0,-1) : \"left\"}\n",
    "\n",
    "def BFS(maze,start=(0,0)):\n",
    "    ch = [start]\n",
    "    vis = [start]\n",
    "    parent = {}\n",
    "    while ch:\n",
    "        l = []\n",
    "        for c in ch:\n",
    "            for k,v in directions.items():\n",
    "                m = tuple(map(add,c,k))\n",
    "                try:\n",
    "                    if maze[c[0]+k[0]][c[1]+k[1]] == 0:\n",
    "                        if m not in vis:\n",
    "                            l.append(m)\n",
    "                            vis.append(m)\n",
    "                            parent[(c[0]+k[0],c[1]+k[1])] = c\n",
    "                except IndexError:\n",
    "                    continue\n",
    "        ch = l\n",
    "    out = []\n",
    "    while c != start :\n",
    "        out.append(directions[tuple(map(sub,c,parent[c]))])\n",
    "        c = parent[c]\n",
    "    return out[::-1]\n",
    "\n",
    "BFS(maze)"
   ]
  },
  {
   "cell_type": "markdown",
   "metadata": {},
   "source": [
    "### DIJKSTRA"
   ]
  },
  {
   "cell_type": "code",
   "execution_count": 35,
   "metadata": {},
   "outputs": [
    {
     "data": {
      "text/plain": [
       "{('A', 'B'): Text(0.0, 5.0, '10'),\n",
       " ('A', 'C'): Text(0.5, 3.5, '5'),\n",
       " ('C', 'B'): Text(0.5, 8.5, '7')}"
      ]
     },
     "execution_count": 35,
     "metadata": {},
     "output_type": "execute_result"
    },
    {
     "data": {
      "image/png": "[encoded data removed]",
      "text/plain": [
       "<Figure size 432x288 with 1 Axes>"
      ]
     },
     "metadata": {
      "needs_background": "light"
     },
     "output_type": "display_data"
    }
   ],
   "source": [
    "#For help with methods do instance.method?\n",
    "\n",
    "import networkx as nx \n",
    "G = nx.DiGraph() \n",
    "\n",
    "nodes = [(\"A\", {'pos':(0,0)}),(\"B\", {'pos':(0,10)}),(\"C\", {'pos':(1,7)})]\n",
    "G.add_nodes_from(nodes)\n",
    "edges = [(\"A\",\"B\",10),(\"A\",\"C\",5),(\"C\",\"B\",7)]\n",
    "\n",
    "pos = nx.get_node_attributes(G,\"pos\")\n",
    "G.add_weighted_edges_from(edges) \n",
    "weights = nx.get_edge_attributes(G, 'weight')\n",
    "\n",
    "nx.draw_networkx(G,pos)\n",
    "nx.draw_networkx_edge_labels(G,pos,edge_labels=weights)\n"
   ]
  },
  {
   "cell_type": "markdown",
   "metadata": {},
   "source": [
    "1) Start at node A\n",
    "<br>\n",
    "2) Algorithm extracts min distance (5 to node C)\n",
    "<br>\n",
    "3) Algorithm takes distance to B --> 10 because it is smaller than 5+7=12\n",
    "\n",
    "Why doesn’t C need to visit B at the end of the algorithm? Because weights are non-negative you guarantee that the path through A → B is smaller, if weights were negative things get complicated because C could visit B and have a shorter path.\n",
    "\n",
    "Proof by induction:  imagine you have 3 nodes that can get to destination, those 3 nodes have the minimum distance to them known. The algorithm will choose the minimum distance from any of those 3 nodes to destination and will guarantee the minimum distance."
   ]
  },
  {
   "cell_type": "markdown",
   "metadata": {},
   "source": [
    "## 5) Txt Files"
   ]
  },
  {
   "cell_type": "code",
   "execution_count": 49,
   "metadata": {},
   "outputs": [
    {
     "name": "stdout",
     "output_type": "stream",
     "text": [
      "['trial line1 \\n', 'trial line2 \\n', 'trial line3 ']\n",
      "trial line1 \n",
      "trial line2 \n",
      "trial line3 \n"
     ]
    }
   ],
   "source": [
    "import os #Define the working path\n",
    "os.chdir(\"C:\\\\Users\\\\hheim\\\\Documents\") #Slash for escaping\n",
    "\n",
    "#Second input (called mode)\n",
    "#w: writing\n",
    "#r: reading\n",
    "#a: appending\n",
    "trial_file = open(\"trial.txt\",\"r\") #file object\n",
    "trial_name = trial_file.name\n",
    "trial_content = trial_file.read()\n",
    "trial_file.close() # you should always close\n",
    "\n",
    "#To avoid having to close\n",
    "#NOTE: you use is twice because otherwise you run through the file (iterator?)\n",
    "with open(\"trial.txt\",\"r\") as file1:\n",
    "    trial_lines = file1.readlines() \n",
    "    print(trial_lines)\n",
    "    \n",
    "with open(\"trial.txt\",\"r\") as file1:\n",
    "    trial_cont = file1.read()\n",
    "    print(trial_cont)\n"
   ]
  },
  {
   "cell_type": "code",
   "execution_count": 55,
   "metadata": {},
   "outputs": [
    {
     "name": "stdout",
     "output_type": "stream",
     "text": [
      "trial line1 \n",
      "trial line2 \n",
      "trial line3\n",
      "trial line4: added with Python\n"
     ]
    }
   ],
   "source": [
    "with open(\"trial.txt\",\"r\") as source:\n",
    "    with open(\"trial_py.txt\",\"w\") as output:\n",
    "        output.write(source.read()+\"\\ntrial line4: added with Python\")\n",
    "    \n",
    "with open(\"trial_py.txt\",\"r\") as tpy:\n",
    "    print(tpy.read())"
   ]
  },
  {
   "cell_type": "markdown",
   "metadata": {},
   "source": [
    "##  6) Application Program Interfaces (APIs)\n",
    "\n",
    "You have your program, you have some data, you have other software components, you use the API to communicate with the API via inputs and outputs. Just like a function, you don't have to know how the API works but just as inputs and outputs. Pandas is actually a set of software components much of which are not even written in Python. You have some data. You have a set of software components. We use the pandas API to process the data by communicating with the other software components. \n",
    "\n",
    "### 6.1) Representational State Transfer (REST APIs)\n",
    "\n",
    "They allow you to communicate through the Internet allowing you to take advantage of resources like storage, access more data, artificial intelligent algorithms and much more.\n",
    "\n",
    "The client sends requests to the resource and the response to the client. HTTP methods are a way of transmitting data over the internet. We tell the REST APIs what to do by sending a request. The request is usually communicated via an HTTP message. The HTTP message usually contains adjacent file. This contains instructions for what operation we would like the service to perform. This operation is transmitted to the web service via the Internet. The service performs the operation. In the similar manner, the web service returns a response via an HTTP message, where the information is usually return the adjacent file. "
   ]
  },
  {
   "cell_type": "code",
   "execution_count": 92,
   "metadata": {},
   "outputs": [
    {
     "data": {
      "text/html": [
       "<div>\n",
       "<style scoped>\n",
       "    .dataframe tbody tr th:only-of-type {\n",
       "        vertical-align: middle;\n",
       "    }\n",
       "\n",
       "    .dataframe tbody tr th {\n",
       "        vertical-align: top;\n",
       "    }\n",
       "\n",
       "    .dataframe thead th {\n",
       "        text-align: right;\n",
       "    }\n",
       "</style>\n",
       "<table border=\"1\" class=\"dataframe\">\n",
       "  <thead>\n",
       "    <tr style=\"text-align: right;\">\n",
       "      <th></th>\n",
       "      <th>id</th>\n",
       "      <th>full_name</th>\n",
       "      <th>abbreviation</th>\n",
       "      <th>nickname</th>\n",
       "      <th>city</th>\n",
       "      <th>state</th>\n",
       "      <th>year_founded</th>\n",
       "    </tr>\n",
       "  </thead>\n",
       "  <tbody>\n",
       "    <tr>\n",
       "      <th>0</th>\n",
       "      <td>1610612737</td>\n",
       "      <td>Atlanta Hawks</td>\n",
       "      <td>ATL</td>\n",
       "      <td>Hawks</td>\n",
       "      <td>Atlanta</td>\n",
       "      <td>Atlanta</td>\n",
       "      <td>1949</td>\n",
       "    </tr>\n",
       "    <tr>\n",
       "      <th>1</th>\n",
       "      <td>1610612738</td>\n",
       "      <td>Boston Celtics</td>\n",
       "      <td>BOS</td>\n",
       "      <td>Celtics</td>\n",
       "      <td>Boston</td>\n",
       "      <td>Massachusetts</td>\n",
       "      <td>1946</td>\n",
       "    </tr>\n",
       "    <tr>\n",
       "      <th>2</th>\n",
       "      <td>1610612739</td>\n",
       "      <td>Cleveland Cavaliers</td>\n",
       "      <td>CLE</td>\n",
       "      <td>Cavaliers</td>\n",
       "      <td>Cleveland</td>\n",
       "      <td>Ohio</td>\n",
       "      <td>1970</td>\n",
       "    </tr>\n",
       "    <tr>\n",
       "      <th>3</th>\n",
       "      <td>1610612740</td>\n",
       "      <td>New Orleans Pelicans</td>\n",
       "      <td>NOP</td>\n",
       "      <td>Pelicans</td>\n",
       "      <td>New Orleans</td>\n",
       "      <td>Louisiana</td>\n",
       "      <td>2002</td>\n",
       "    </tr>\n",
       "    <tr>\n",
       "      <th>4</th>\n",
       "      <td>1610612741</td>\n",
       "      <td>Chicago Bulls</td>\n",
       "      <td>CHI</td>\n",
       "      <td>Bulls</td>\n",
       "      <td>Chicago</td>\n",
       "      <td>Illinois</td>\n",
       "      <td>1966</td>\n",
       "    </tr>\n",
       "  </tbody>\n",
       "</table>\n",
       "</div>"
      ],
      "text/plain": [
       "           id             full_name abbreviation   nickname         city  \\\n",
       "0  1610612737         Atlanta Hawks          ATL      Hawks      Atlanta   \n",
       "1  1610612738        Boston Celtics          BOS    Celtics       Boston   \n",
       "2  1610612739   Cleveland Cavaliers          CLE  Cavaliers    Cleveland   \n",
       "3  1610612740  New Orleans Pelicans          NOP   Pelicans  New Orleans   \n",
       "4  1610612741         Chicago Bulls          CHI      Bulls      Chicago   \n",
       "\n",
       "           state  year_founded  \n",
       "0        Atlanta          1949  \n",
       "1  Massachusetts          1946  \n",
       "2           Ohio          1970  \n",
       "3      Louisiana          2002  \n",
       "4       Illinois          1966  "
      ]
     },
     "execution_count": 92,
     "metadata": {},
     "output_type": "execute_result"
    }
   ],
   "source": [
    "#In Anaconda prompt: > pip install nba_api\n",
    "\n",
    "from nba_api.stats.static import teams\n",
    "from nba_api.stats.endpoints import leaguegamefinder\n",
    "\n",
    "nba_teams = teams.get_teams()\n",
    "nba_dict = {key : [] for key,value in nba_teams[0].items()}\n",
    "bulls_games = leaguegamefinder.LeagueGameFinder(team_id_nullable=1610612741)\n",
    "bulls_games_DF = bulls_games.get_data_frames()[0]\n",
    "\n",
    "for team in nba_teams:\n",
    "    for key,value in nba_teams[0].items():\n",
    "        nba_dict[key].append(team[key])\n",
    "\n",
    "nba_DF = pd.DataFrame(nba_dict)\n",
    "nba_DF.head()"
   ]
  },
  {
   "cell_type": "code",
   "execution_count": 93,
   "metadata": {},
   "outputs": [
    {
     "data": {
      "text/html": [
       "<div>\n",
       "<style scoped>\n",
       "    .dataframe tbody tr th:only-of-type {\n",
       "        vertical-align: middle;\n",
       "    }\n",
       "\n",
       "    .dataframe tbody tr th {\n",
       "        vertical-align: top;\n",
       "    }\n",
       "\n",
       "    .dataframe thead th {\n",
       "        text-align: right;\n",
       "    }\n",
       "</style>\n",
       "<table border=\"1\" class=\"dataframe\">\n",
       "  <thead>\n",
       "    <tr style=\"text-align: right;\">\n",
       "      <th></th>\n",
       "      <th>SEASON_ID</th>\n",
       "      <th>TEAM_ID</th>\n",
       "      <th>TEAM_ABBREVIATION</th>\n",
       "      <th>TEAM_NAME</th>\n",
       "      <th>GAME_ID</th>\n",
       "      <th>GAME_DATE</th>\n",
       "      <th>MATCHUP</th>\n",
       "      <th>WL</th>\n",
       "      <th>MIN</th>\n",
       "      <th>PTS</th>\n",
       "      <th>...</th>\n",
       "      <th>FT_PCT</th>\n",
       "      <th>OREB</th>\n",
       "      <th>DREB</th>\n",
       "      <th>REB</th>\n",
       "      <th>AST</th>\n",
       "      <th>STL</th>\n",
       "      <th>BLK</th>\n",
       "      <th>TOV</th>\n",
       "      <th>PF</th>\n",
       "      <th>PLUS_MINUS</th>\n",
       "    </tr>\n",
       "  </thead>\n",
       "  <tbody>\n",
       "    <tr>\n",
       "      <th>0</th>\n",
       "      <td>22019</td>\n",
       "      <td>1610612741</td>\n",
       "      <td>CHI</td>\n",
       "      <td>Chicago Bulls</td>\n",
       "      <td>0021900962</td>\n",
       "      <td>2020-03-10</td>\n",
       "      <td>CHI vs. CLE</td>\n",
       "      <td>W</td>\n",
       "      <td>241</td>\n",
       "      <td>108</td>\n",
       "      <td>...</td>\n",
       "      <td>0.800</td>\n",
       "      <td>14</td>\n",
       "      <td>32</td>\n",
       "      <td>46</td>\n",
       "      <td>23</td>\n",
       "      <td>8</td>\n",
       "      <td>6</td>\n",
       "      <td>21</td>\n",
       "      <td>21</td>\n",
       "      <td>0.8</td>\n",
       "    </tr>\n",
       "    <tr>\n",
       "      <th>1</th>\n",
       "      <td>22019</td>\n",
       "      <td>1610612741</td>\n",
       "      <td>CHI</td>\n",
       "      <td>Chicago Bulls</td>\n",
       "      <td>0021900946</td>\n",
       "      <td>2020-03-08</td>\n",
       "      <td>CHI @ BKN</td>\n",
       "      <td>L</td>\n",
       "      <td>240</td>\n",
       "      <td>107</td>\n",
       "      <td>...</td>\n",
       "      <td>0.680</td>\n",
       "      <td>5</td>\n",
       "      <td>26</td>\n",
       "      <td>31</td>\n",
       "      <td>23</td>\n",
       "      <td>14</td>\n",
       "      <td>3</td>\n",
       "      <td>7</td>\n",
       "      <td>31</td>\n",
       "      <td>-3.0</td>\n",
       "    </tr>\n",
       "    <tr>\n",
       "      <th>2</th>\n",
       "      <td>22019</td>\n",
       "      <td>1610612741</td>\n",
       "      <td>CHI</td>\n",
       "      <td>Chicago Bulls</td>\n",
       "      <td>0021900934</td>\n",
       "      <td>2020-03-06</td>\n",
       "      <td>CHI vs. IND</td>\n",
       "      <td>L</td>\n",
       "      <td>240</td>\n",
       "      <td>102</td>\n",
       "      <td>...</td>\n",
       "      <td>0.867</td>\n",
       "      <td>17</td>\n",
       "      <td>28</td>\n",
       "      <td>45</td>\n",
       "      <td>27</td>\n",
       "      <td>12</td>\n",
       "      <td>6</td>\n",
       "      <td>17</td>\n",
       "      <td>25</td>\n",
       "      <td>-6.0</td>\n",
       "    </tr>\n",
       "    <tr>\n",
       "      <th>3</th>\n",
       "      <td>22019</td>\n",
       "      <td>1610612741</td>\n",
       "      <td>CHI</td>\n",
       "      <td>Chicago Bulls</td>\n",
       "      <td>0021900922</td>\n",
       "      <td>2020-03-04</td>\n",
       "      <td>CHI @ MIN</td>\n",
       "      <td>L</td>\n",
       "      <td>241</td>\n",
       "      <td>108</td>\n",
       "      <td>...</td>\n",
       "      <td>0.636</td>\n",
       "      <td>9</td>\n",
       "      <td>31</td>\n",
       "      <td>40</td>\n",
       "      <td>24</td>\n",
       "      <td>10</td>\n",
       "      <td>5</td>\n",
       "      <td>10</td>\n",
       "      <td>19</td>\n",
       "      <td>-7.0</td>\n",
       "    </tr>\n",
       "    <tr>\n",
       "      <th>4</th>\n",
       "      <td>22019</td>\n",
       "      <td>1610612741</td>\n",
       "      <td>CHI</td>\n",
       "      <td>Chicago Bulls</td>\n",
       "      <td>0021900907</td>\n",
       "      <td>2020-03-02</td>\n",
       "      <td>CHI vs. DAL</td>\n",
       "      <td>W</td>\n",
       "      <td>240</td>\n",
       "      <td>109</td>\n",
       "      <td>...</td>\n",
       "      <td>0.647</td>\n",
       "      <td>12</td>\n",
       "      <td>30</td>\n",
       "      <td>42</td>\n",
       "      <td>24</td>\n",
       "      <td>7</td>\n",
       "      <td>5</td>\n",
       "      <td>14</td>\n",
       "      <td>21</td>\n",
       "      <td>2.0</td>\n",
       "    </tr>\n",
       "  </tbody>\n",
       "</table>\n",
       "<p>5 rows × 28 columns</p>\n",
       "</div>"
      ],
      "text/plain": [
       "  SEASON_ID     TEAM_ID TEAM_ABBREVIATION      TEAM_NAME     GAME_ID  \\\n",
       "0     22019  1610612741               CHI  Chicago Bulls  0021900962   \n",
       "1     22019  1610612741               CHI  Chicago Bulls  0021900946   \n",
       "2     22019  1610612741               CHI  Chicago Bulls  0021900934   \n",
       "3     22019  1610612741               CHI  Chicago Bulls  0021900922   \n",
       "4     22019  1610612741               CHI  Chicago Bulls  0021900907   \n",
       "\n",
       "    GAME_DATE      MATCHUP WL  MIN  PTS  ...  FT_PCT  OREB  DREB  REB  AST  \\\n",
       "0  2020-03-10  CHI vs. CLE  W  241  108  ...   0.800    14    32   46   23   \n",
       "1  2020-03-08    CHI @ BKN  L  240  107  ...   0.680     5    26   31   23   \n",
       "2  2020-03-06  CHI vs. IND  L  240  102  ...   0.867    17    28   45   27   \n",
       "3  2020-03-04    CHI @ MIN  L  241  108  ...   0.636     9    31   40   24   \n",
       "4  2020-03-02  CHI vs. DAL  W  240  109  ...   0.647    12    30   42   24   \n",
       "\n",
       "   STL  BLK  TOV  PF  PLUS_MINUS  \n",
       "0    8    6   21  21         0.8  \n",
       "1   14    3    7  31        -3.0  \n",
       "2   12    6   17  25        -6.0  \n",
       "3   10    5   10  19        -7.0  \n",
       "4    7    5   14  21         2.0  \n",
       "\n",
       "[5 rows x 28 columns]"
      ]
     },
     "execution_count": 93,
     "metadata": {},
     "output_type": "execute_result"
    }
   ],
   "source": [
    "bulls_games_DF.head()"
   ]
  },
  {
   "cell_type": "markdown",
   "metadata": {},
   "source": [
    "## 7) Structured Query Language (SQL)\n",
    "\n"
   ]
  },
  {
   "cell_type": "markdown",
   "metadata": {},
   "source": [
    "## 8) General discoveries\n",
    "\n",
    "### PRICE OF FUTURES\n",
    "\n",
    "What's the price $P_{t=1}$ if $r_f=5\\%$ and $P_{t=0}=100$?\n",
    "\n",
    "It can only be $P_{t=1}=105$. \n",
    "\n",
    "Consider it was bigger (110) then:\n",
    "\n",
    "1) Borrow 100 from bank\n",
    "<br>\n",
    "2) Long stock (buy at t=0)\n",
    "<br>\n",
    "3) Future sell stock for 110\n",
    "<br>\n",
    "4) Pay 105 only to bank\n",
    "\n",
    "Consider it was smaller (100) then:\n",
    "\n",
    "1) Short stock\n",
    "<br>\n",
    "2) Deposit at risk free\n",
    "<br>\n",
    "3) Collect 105 from bank\n",
    "<br>\n",
    "4) Pay 100 for stock and return it\n",
    "\n",
    "### PERMUTATIONS\n",
    "\n",
    "Permutations:\n",
    "\n",
    "If you have repeated elements in a set, how do you calculate the number of different arrangements? If they are all distinct simply permutations.\n",
    "\n",
    "If for example one element (A=B=C) is repeated 3 times, then:\n",
    "\n",
    "A _ B C _ \n",
    "<br>\n",
    "A _ C B _ \n",
    "<br>\n",
    "B _ A C _\n",
    "<br>\n",
    "B _ C A _\n",
    "<br>\n",
    "C _ A B _\n",
    "<br>\n",
    "C _ B A _\n",
    "\n",
    "All of the previous elements will be counted in Perm(5,5), therefore we divide by Perm(3,3) = 6\n",
    "\n",
    "If there is another element (D=E) repeated:\n",
    "\n",
    "A D B C E\n",
    "<br>\n",
    "A E B C D\n",
    "\n",
    "It is counted twice in P(5,5), therefore we additionally divide by P(2,2) = 2. Instead of getting $5*4*3*2 = 120$, we get $\\frac{5*4*3*2}{6*2} = 10$\n",
    "\n",
    "### LENGTH OF A LINE IN A 3D PLANE\n",
    "\n",
    "Use pythagoras twice, first to find the hypothenuse in the x,y plane and then use that as adjacent length and the height of Z for oppose $\\sqrt{x^2+y^2+z^2}$\n",
    "\n",
    "### GRADIENT DESCENT\n",
    "\n",
    "To find the global minimum when there is no closed form solution:\n",
    "\n",
    "repeat until convergence {\n",
    "<br>\n",
    "    Simultaneuous change\n",
    "    $\\theta_0, \\theta_1, ..., \\theta_j := \\theta_j-\\alpha\\frac{\\partial}{\\partial \\theta_j}J(\\theta_0,\\theta_1)$ $\\forall$ $j$\n",
    "<br>\n",
    "}\n",
    "\n",
    "$\\alpha$ is the magnitude of the gradient descent."
   ]
  },
  {
   "cell_type": "code",
   "execution_count": 115,
   "metadata": {},
   "outputs": [
    {
     "name": "stdout",
     "output_type": "stream",
     "text": [
      "1.0 2.0\n",
      "0.5 1.0\n",
      "0.25 0.5\n",
      "0.125 0.25\n",
      "0.0625 0.125\n",
      "0.03125 0.0625\n",
      "0.015625 0.03125\n",
      "0.0078125 0.015625\n",
      "0.00390625 0.0078125\n",
      "0.001953125 0.00390625\n",
      "0.0009765625 0.001953125\n",
      "0.00048828125 0.0009765625\n",
      "0.000244140625 0.00048828125\n",
      "0.0001220703125 0.000244140625\n",
      "6.103515625e-05 0.0001220703125\n",
      "3.0517578125e-05 6.103515625e-05\n",
      "1.52587890625e-05 3.0517578125e-05\n",
      "7.62939453125e-06 1.52587890625e-05\n",
      "3.814697265625e-06 7.62939453125e-06\n",
      "1.9073486328125e-06 3.814697265625e-06\n",
      "9.5367431640625e-07 1.9073486328125e-06\n"
     ]
    },
    {
     "data": {
      "text/plain": [
       "0.0"
      ]
     },
     "execution_count": 115,
     "metadata": {},
     "output_type": "execute_result"
    }
   ],
   "source": [
    "# Gradient Descent one dimension\n",
    "# Min value y=x^2\n",
    "\n",
    "from math import isclose\n",
    "\n",
    "def grad_descent(initial,alpha):\n",
    "    prev = float(initial)\n",
    "    nex = prev-alpha*2*prev\n",
    "    while not isclose(prev,nex,abs_tol=1e-6):\n",
    "        prev = float(nex)\n",
    "        nex = float(prev-alpha*2*prev)\n",
    "        print(nex,prev)\n",
    "    return round(nex,5)  \n",
    "\n",
    "grad_descent(4,.25)"
   ]
  },
  {
   "cell_type": "markdown",
   "metadata": {},
   "source": [
    "Normalizing variables increase the running time of algorithm. It can be used more efficiently than the closed form if you have a lot of covariates (covs = 10000)."
   ]
  },
  {
   "cell_type": "markdown",
   "metadata": {},
   "source": [
    "### NEURAL NETWORKS\n",
    "\n",
    "For non-linear hypotheses it can be very computationally expensive to include a multitude of covariates for a classification problem by using say a logistic regression. Consider the case of a 100 X 100 picture, every pixel is a dimension or variable in the regression; if you include the interactions then it's 10000*9999/2."
   ]
  },
  {
   "cell_type": "code",
   "execution_count": 3,
   "metadata": {},
   "outputs": [
    {
     "data": {
      "image/svg+xml": [
       "<?xml version=\"1.0\" encoding=\"UTF-8\" standalone=\"no\"?>\r\n",
       "<!DOCTYPE svg PUBLIC \"-//W3C//DTD SVG 1.1//EN\"\r\n",
       " \"http://www.w3.org/Graphics/SVG/1.1/DTD/svg11.dtd\">\r\n",
       "<!-- Generated by graphviz version 2.38.0 (20140413.2041)\r\n",
       " -->\r\n",
       "<!-- Title: %3 Pages: 1 -->\r\n",
       "<svg width=\"206pt\" height=\"188pt\"\r\n",
       " viewBox=\"0.00 0.00 206.00 188.00\" xmlns=\"http://www.w3.org/2000/svg\" xmlns:xlink=\"http://www.w3.org/1999/xlink\">\r\n",
       "<g id=\"graph0\" class=\"graph\" transform=\"scale(1 1) rotate(0) translate(4 184)\">\r\n",
       "<title>%3</title>\r\n",
       "<polygon fill=\"white\" stroke=\"none\" points=\"-4,4 -4,-184 202,-184 202,4 -4,4\"/>\r\n",
       "<!-- X1 -->\r\n",
       "<g id=\"node1\" class=\"node\"><title>X1</title>\r\n",
       "<ellipse fill=\"none\" stroke=\"black\" cx=\"27\" cy=\"-162\" rx=\"27\" ry=\"18\"/>\r\n",
       "<text text-anchor=\"middle\" x=\"27\" y=\"-158.3\" font-family=\"Times New Roman,serif\" font-size=\"14.00\">X1</text>\r\n",
       "</g>\r\n",
       "<!-- i1 -->\r\n",
       "<g id=\"node4\" class=\"node\"><title>i1</title>\r\n",
       "<ellipse fill=\"none\" stroke=\"black\" cx=\"63\" cy=\"-90\" rx=\"27\" ry=\"18\"/>\r\n",
       "<text text-anchor=\"middle\" x=\"63\" y=\"-86.3\" font-family=\"Times New Roman,serif\" font-size=\"14.00\">i1</text>\r\n",
       "</g>\r\n",
       "<!-- X1&#45;&gt;i1 -->\r\n",
       "<g id=\"edge1\" class=\"edge\"><title>X1&#45;&gt;i1</title>\r\n",
       "<path fill=\"none\" stroke=\"black\" d=\"M35.3496,-144.765C39.7115,-136.283 45.1469,-125.714 50.0413,-116.197\"/>\r\n",
       "<polygon fill=\"black\" stroke=\"black\" points=\"53.2346,-117.641 54.6957,-107.147 47.0096,-114.439 53.2346,-117.641\"/>\r\n",
       "</g>\r\n",
       "<!-- i2 -->\r\n",
       "<g id=\"node5\" class=\"node\"><title>i2</title>\r\n",
       "<ellipse fill=\"none\" stroke=\"black\" cx=\"135\" cy=\"-90\" rx=\"27\" ry=\"18\"/>\r\n",
       "<text text-anchor=\"middle\" x=\"135\" y=\"-86.3\" font-family=\"Times New Roman,serif\" font-size=\"14.00\">i2</text>\r\n",
       "</g>\r\n",
       "<!-- X1&#45;&gt;i2 -->\r\n",
       "<g id=\"edge2\" class=\"edge\"><title>X1&#45;&gt;i2</title>\r\n",
       "<path fill=\"none\" stroke=\"black\" d=\"M45.8122,-148.807C63.0021,-137.665 88.6184,-121.062 107.993,-108.504\"/>\r\n",
       "<polygon fill=\"black\" stroke=\"black\" points=\"109.916,-111.429 116.403,-103.053 106.108,-105.555 109.916,-111.429\"/>\r\n",
       "</g>\r\n",
       "<!-- X2 -->\r\n",
       "<g id=\"node2\" class=\"node\"><title>X2</title>\r\n",
       "<ellipse fill=\"none\" stroke=\"black\" cx=\"99\" cy=\"-162\" rx=\"27\" ry=\"18\"/>\r\n",
       "<text text-anchor=\"middle\" x=\"99\" y=\"-158.3\" font-family=\"Times New Roman,serif\" font-size=\"14.00\">X2</text>\r\n",
       "</g>\r\n",
       "<!-- X2&#45;&gt;i1 -->\r\n",
       "<g id=\"edge3\" class=\"edge\"><title>X2&#45;&gt;i1</title>\r\n",
       "<path fill=\"none\" stroke=\"black\" d=\"M90.6504,-144.765C86.2885,-136.283 80.8531,-125.714 75.9587,-116.197\"/>\r\n",
       "<polygon fill=\"black\" stroke=\"black\" points=\"78.9904,-114.439 71.3043,-107.147 72.7654,-117.641 78.9904,-114.439\"/>\r\n",
       "</g>\r\n",
       "<!-- X2&#45;&gt;i2 -->\r\n",
       "<g id=\"edge4\" class=\"edge\"><title>X2&#45;&gt;i2</title>\r\n",
       "<path fill=\"none\" stroke=\"black\" d=\"M107.35,-144.765C111.712,-136.283 117.147,-125.714 122.041,-116.197\"/>\r\n",
       "<polygon fill=\"black\" stroke=\"black\" points=\"125.235,-117.641 126.696,-107.147 119.01,-114.439 125.235,-117.641\"/>\r\n",
       "</g>\r\n",
       "<!-- X3 -->\r\n",
       "<g id=\"node3\" class=\"node\"><title>X3</title>\r\n",
       "<ellipse fill=\"none\" stroke=\"black\" cx=\"171\" cy=\"-162\" rx=\"27\" ry=\"18\"/>\r\n",
       "<text text-anchor=\"middle\" x=\"171\" y=\"-158.3\" font-family=\"Times New Roman,serif\" font-size=\"14.00\">X3</text>\r\n",
       "</g>\r\n",
       "<!-- X3&#45;&gt;i1 -->\r\n",
       "<g id=\"edge5\" class=\"edge\"><title>X3&#45;&gt;i1</title>\r\n",
       "<path fill=\"none\" stroke=\"black\" d=\"M152.188,-148.807C134.998,-137.665 109.382,-121.062 90.0067,-108.504\"/>\r\n",
       "<polygon fill=\"black\" stroke=\"black\" points=\"91.8918,-105.555 81.5966,-103.053 88.0845,-111.429 91.8918,-105.555\"/>\r\n",
       "</g>\r\n",
       "<!-- X3&#45;&gt;i2 -->\r\n",
       "<g id=\"edge6\" class=\"edge\"><title>X3&#45;&gt;i2</title>\r\n",
       "<path fill=\"none\" stroke=\"black\" d=\"M162.65,-144.765C158.288,-136.283 152.853,-125.714 147.959,-116.197\"/>\r\n",
       "<polygon fill=\"black\" stroke=\"black\" points=\"150.99,-114.439 143.304,-107.147 144.765,-117.641 150.99,-114.439\"/>\r\n",
       "</g>\r\n",
       "<!-- output -->\r\n",
       "<g id=\"node6\" class=\"node\"><title>output</title>\r\n",
       "<ellipse fill=\"none\" stroke=\"black\" cx=\"99\" cy=\"-18\" rx=\"34.394\" ry=\"18\"/>\r\n",
       "<text text-anchor=\"middle\" x=\"99\" y=\"-14.3\" font-family=\"Times New Roman,serif\" font-size=\"14.00\">output</text>\r\n",
       "</g>\r\n",
       "<!-- i1&#45;&gt;output -->\r\n",
       "<g id=\"edge7\" class=\"edge\"><title>i1&#45;&gt;output</title>\r\n",
       "<path fill=\"none\" stroke=\"black\" d=\"M71.3496,-72.7646C75.6492,-64.4043 80.9918,-54.0159 85.8312,-44.6059\"/>\r\n",
       "<polygon fill=\"black\" stroke=\"black\" points=\"88.9847,-46.127 90.4457,-35.6334 82.7596,-42.9256 88.9847,-46.127\"/>\r\n",
       "</g>\r\n",
       "<!-- i2&#45;&gt;output -->\r\n",
       "<g id=\"edge8\" class=\"edge\"><title>i2&#45;&gt;output</title>\r\n",
       "<path fill=\"none\" stroke=\"black\" d=\"M126.65,-72.7646C122.351,-64.4043 117.008,-54.0159 112.169,-44.6059\"/>\r\n",
       "<polygon fill=\"black\" stroke=\"black\" points=\"115.24,-42.9256 107.554,-35.6334 109.015,-46.127 115.24,-42.9256\"/>\r\n",
       "</g>\r\n",
       "</g>\r\n",
       "</svg>\r\n"
      ],
      "text/plain": [
       "<graphviz.dot.Digraph at 0x2ec94c5c048>"
      ]
     },
     "execution_count": 3,
     "metadata": {},
     "output_type": "execute_result"
    }
   ],
   "source": [
    "# Graphic reprentation\n",
    "\n",
    "neural = Digraph()\n",
    "\n",
    "neural.node(\"X1\",\"X1\")\n",
    "neural.node(\"X2\",\"X2\")\n",
    "neural.node(\"X3\",\"X3\")\n",
    "neural.node(\"i1\", \"i1\")\n",
    "neural.node(\"i2\",\"i2\")\n",
    "neural.node(\"output\",\"output\")\n",
    "\n",
    "neural.edge(\"X1\",\"i1\")\n",
    "neural.edge(\"X1\",\"i2\")\n",
    "neural.edge(\"X2\",\"i1\")\n",
    "neural.edge(\"X2\",\"i2\")\n",
    "neural.edge(\"X3\",\"i1\")\n",
    "neural.edge(\"X3\",\"i2\")\n",
    "neural.edge(\"i1\",\"output\")\n",
    "neural.edge(\"i2\",\"output\")\n",
    "\n",
    "neural"
   ]
  },
  {
   "cell_type": "markdown",
   "metadata": {},
   "source": [
    "$i^{(layer+1)}_j = g(\\Phi^{layer}_{0,j}X_1 +\\Phi^{layer}_{1,j}X_2+\\Phi^{layer}_{1,j}X_3)$   $ \\forall j \\in [1,2]$\n",
    "\n",
    "$output_{\\Phi}^3 = g(\\Phi^2_{0,1}i^2_1+\\Phi^2_{0,2}i^2_2) = g(\\Phi^2i^2)$\n",
    "\n",
    "A one layer with constant and two binary inputs $X_1, X_2$ allows a logistic regression to classify $X_1 and X_2$, $X_1 or X_2$, etc.\n",
    "\n",
    "Consider $g(-10+20X_1+20X_2)$ if either $X_1$ or $X_2$ is $1$ then the logistic regression throws $\\approx 1$.\n",
    "\n",
    "You can add layers of complexity, now imagine you want $X_1$ $NOR$ $X_2$ (1 if $X_1=$X_2, else 0) first $X_1 \\& X_2$ and $(not X_1) $ $\\&$ $ (not X_2)$ in the first layer then $i_1$ or $i_2$ in second layer."
   ]
  },
  {
   "cell_type": "code",
   "execution_count": 4,
   "metadata": {},
   "outputs": [
    {
     "data": {
      "image/svg+xml": [
       "<?xml version=\"1.0\" encoding=\"UTF-8\" standalone=\"no\"?>\r\n",
       "<!DOCTYPE svg PUBLIC \"-//W3C//DTD SVG 1.1//EN\"\r\n",
       " \"http://www.w3.org/Graphics/SVG/1.1/DTD/svg11.dtd\">\r\n",
       "<!-- Generated by graphviz version 2.38.0 (20140413.2041)\r\n",
       " -->\r\n",
       "<!-- Title: %3 Pages: 1 -->\r\n",
       "<svg width=\"271pt\" height=\"218pt\"\r\n",
       " viewBox=\"0.00 0.00 271.00 218.00\" xmlns=\"http://www.w3.org/2000/svg\" xmlns:xlink=\"http://www.w3.org/1999/xlink\">\r\n",
       "<g id=\"graph0\" class=\"graph\" transform=\"scale(1 1) rotate(0) translate(4 214)\">\r\n",
       "<title>%3</title>\r\n",
       "<polygon fill=\"white\" stroke=\"none\" points=\"-4,4 -4,-214 267,-214 267,4 -4,4\"/>\r\n",
       "<!-- X0 -->\r\n",
       "<g id=\"node1\" class=\"node\"><title>X0</title>\r\n",
       "<ellipse fill=\"none\" stroke=\"black\" cx=\"82\" cy=\"-192\" rx=\"27\" ry=\"18\"/>\r\n",
       "<text text-anchor=\"middle\" x=\"82\" y=\"-188.3\" font-family=\"Times New Roman,serif\" font-size=\"14.00\">X0</text>\r\n",
       "</g>\r\n",
       "<!-- i1 -->\r\n",
       "<g id=\"node5\" class=\"node\"><title>i1</title>\r\n",
       "<ellipse fill=\"none\" stroke=\"black\" cx=\"174\" cy=\"-105\" rx=\"27\" ry=\"18\"/>\r\n",
       "<text text-anchor=\"middle\" x=\"174\" y=\"-101.3\" font-family=\"Times New Roman,serif\" font-size=\"14.00\">i1</text>\r\n",
       "</g>\r\n",
       "<!-- X0&#45;&gt;i1 -->\r\n",
       "<g id=\"edge1\" class=\"edge\"><title>X0&#45;&gt;i1</title>\r\n",
       "<path fill=\"none\" stroke=\"black\" d=\"M97.1919,-176.964C111.841,-163.43 134.205,-142.768 151.029,-127.223\"/>\r\n",
       "<polygon fill=\"black\" stroke=\"black\" points=\"153.816,-129.414 158.786,-120.057 149.065,-124.272 153.816,-129.414\"/>\r\n",
       "<text text-anchor=\"middle\" x=\"142.5\" y=\"-144.8\" font-family=\"Times New Roman,serif\" font-size=\"14.00\">&#45;30</text>\r\n",
       "</g>\r\n",
       "<!-- i2 -->\r\n",
       "<g id=\"node6\" class=\"node\"><title>i2</title>\r\n",
       "<ellipse fill=\"none\" stroke=\"black\" cx=\"99\" cy=\"-105\" rx=\"27\" ry=\"18\"/>\r\n",
       "<text text-anchor=\"middle\" x=\"99\" y=\"-101.3\" font-family=\"Times New Roman,serif\" font-size=\"14.00\">i2</text>\r\n",
       "</g>\r\n",
       "<!-- X0&#45;&gt;i2 -->\r\n",
       "<g id=\"edge2\" class=\"edge\"><title>X0&#45;&gt;i2</title>\r\n",
       "<path fill=\"none\" stroke=\"black\" d=\"M68.5655,-176.105C61.2818,-166.154 54.7443,-152.778 60,-141 62.7248,-134.894 67.0998,-129.408 71.9528,-124.691\"/>\r\n",
       "<polygon fill=\"black\" stroke=\"black\" points=\"74.5093,-127.109 79.804,-117.932 69.9421,-121.804 74.5093,-127.109\"/>\r\n",
       "<text text-anchor=\"middle\" x=\"67\" y=\"-144.8\" font-family=\"Times New Roman,serif\" font-size=\"14.00\">10</text>\r\n",
       "</g>\r\n",
       "<!-- X1 -->\r\n",
       "<g id=\"node2\" class=\"node\"><title>X1</title>\r\n",
       "<ellipse fill=\"none\" stroke=\"black\" cx=\"236\" cy=\"-192\" rx=\"27\" ry=\"18\"/>\r\n",
       "<text text-anchor=\"middle\" x=\"236\" y=\"-188.3\" font-family=\"Times New Roman,serif\" font-size=\"14.00\">X1</text>\r\n",
       "</g>\r\n",
       "<!-- X1&#45;&gt;i1 -->\r\n",
       "<g id=\"edge3\" class=\"edge\"><title>X1&#45;&gt;i1</title>\r\n",
       "<path fill=\"none\" stroke=\"black\" d=\"M240.567,-174.124C242.365,-163.862 242.812,-150.878 237,-141 230.506,-129.963 219.136,-122.157 207.825,-116.763\"/>\r\n",
       "<polygon fill=\"black\" stroke=\"black\" points=\"209.02,-113.468 198.447,-112.781 206.284,-119.911 209.02,-113.468\"/>\r\n",
       "<text text-anchor=\"middle\" x=\"248\" y=\"-144.8\" font-family=\"Times New Roman,serif\" font-size=\"14.00\">20</text>\r\n",
       "</g>\r\n",
       "<!-- X1&#45;&gt;i2 -->\r\n",
       "<g id=\"edge4\" class=\"edge\"><title>X1&#45;&gt;i2</title>\r\n",
       "<path fill=\"none\" stroke=\"black\" d=\"M223.805,-175.7C214.437,-164.789 200.657,-150.438 186,-141 166.844,-128.665 159.117,-131.555 138,-123 135.456,-121.97 132.83,-120.88 130.197,-119.77\"/>\r\n",
       "<polygon fill=\"black\" stroke=\"black\" points=\"131.349,-116.456 120.779,-115.733 128.591,-122.89 131.349,-116.456\"/>\r\n",
       "<text text-anchor=\"middle\" x=\"213.5\" y=\"-144.8\" font-family=\"Times New Roman,serif\" font-size=\"14.00\">&#45;20</text>\r\n",
       "</g>\r\n",
       "<!-- X2 -->\r\n",
       "<g id=\"node3\" class=\"node\"><title>X2</title>\r\n",
       "<ellipse fill=\"none\" stroke=\"black\" cx=\"161\" cy=\"-192\" rx=\"27\" ry=\"18\"/>\r\n",
       "<text text-anchor=\"middle\" x=\"161\" y=\"-188.3\" font-family=\"Times New Roman,serif\" font-size=\"14.00\">X2</text>\r\n",
       "</g>\r\n",
       "<!-- X2&#45;&gt;i1 -->\r\n",
       "<g id=\"edge5\" class=\"edge\"><title>X2&#45;&gt;i1</title>\r\n",
       "<path fill=\"none\" stroke=\"black\" d=\"M163.631,-173.799C165.41,-162.163 167.799,-146.548 169.834,-133.237\"/>\r\n",
       "<polygon fill=\"black\" stroke=\"black\" points=\"173.321,-133.59 171.373,-123.175 166.401,-132.531 173.321,-133.59\"/>\r\n",
       "<text text-anchor=\"middle\" x=\"175\" y=\"-144.8\" font-family=\"Times New Roman,serif\" font-size=\"14.00\">20</text>\r\n",
       "</g>\r\n",
       "<!-- X2&#45;&gt;i2 -->\r\n",
       "<g id=\"edge6\" class=\"edge\"><title>X2&#45;&gt;i2</title>\r\n",
       "<path fill=\"none\" stroke=\"black\" d=\"M138.654,-181.722C122.145,-174.359 101.747,-164.007 97,-156 92.9336,-149.141 92.04,-140.774 92.5669,-132.861\"/>\r\n",
       "<polygon fill=\"black\" stroke=\"black\" points=\"96.0438,-133.268 93.9305,-122.886 89.1083,-132.319 96.0438,-133.268\"/>\r\n",
       "<text text-anchor=\"middle\" x=\"106.5\" y=\"-144.8\" font-family=\"Times New Roman,serif\" font-size=\"14.00\">&#45;20</text>\r\n",
       "</g>\r\n",
       "<!-- i0 -->\r\n",
       "<g id=\"node4\" class=\"node\"><title>i0</title>\r\n",
       "<ellipse fill=\"none\" stroke=\"black\" cx=\"27\" cy=\"-105\" rx=\"27\" ry=\"18\"/>\r\n",
       "<text text-anchor=\"middle\" x=\"27\" y=\"-101.3\" font-family=\"Times New Roman,serif\" font-size=\"14.00\">i0</text>\r\n",
       "</g>\r\n",
       "<!-- output -->\r\n",
       "<g id=\"node7\" class=\"node\"><title>output</title>\r\n",
       "<ellipse fill=\"none\" stroke=\"black\" cx=\"99\" cy=\"-18\" rx=\"34.394\" ry=\"18\"/>\r\n",
       "<text text-anchor=\"middle\" x=\"99\" y=\"-14.3\" font-family=\"Times New Roman,serif\" font-size=\"14.00\">output</text>\r\n",
       "</g>\r\n",
       "<!-- i0&#45;&gt;output -->\r\n",
       "<g id=\"edge7\" class=\"edge\"><title>i0&#45;&gt;output</title>\r\n",
       "<path fill=\"none\" stroke=\"black\" d=\"M39.8722,-88.8037C50.7933,-75.9107 66.639,-57.2039 79.1783,-42.4006\"/>\r\n",
       "<polygon fill=\"black\" stroke=\"black\" points=\"81.9593,-44.5325 85.7522,-34.6398 76.618,-40.0081 81.9593,-44.5325\"/>\r\n",
       "<text text-anchor=\"middle\" x=\"76.5\" y=\"-57.8\" font-family=\"Times New Roman,serif\" font-size=\"14.00\">&#45;10</text>\r\n",
       "</g>\r\n",
       "<!-- i1&#45;&gt;output -->\r\n",
       "<g id=\"edge8\" class=\"edge\"><title>i1&#45;&gt;output</title>\r\n",
       "<path fill=\"none\" stroke=\"black\" d=\"M160.936,-89.1941C149.604,-76.3517 133,-57.5336 119.836,-42.6137\"/>\r\n",
       "<polygon fill=\"black\" stroke=\"black\" points=\"122.172,-39.9714 112.931,-34.7886 116.923,-44.6027 122.172,-39.9714\"/>\r\n",
       "<text text-anchor=\"middle\" x=\"147\" y=\"-57.8\" font-family=\"Times New Roman,serif\" font-size=\"14.00\">20</text>\r\n",
       "</g>\r\n",
       "<!-- i2&#45;&gt;output -->\r\n",
       "<g id=\"edge9\" class=\"edge\"><title>i2&#45;&gt;output</title>\r\n",
       "<path fill=\"none\" stroke=\"black\" d=\"M99,-86.799C99,-75.1626 99,-59.5479 99,-46.2368\"/>\r\n",
       "<polygon fill=\"black\" stroke=\"black\" points=\"102.5,-46.1754 99,-36.1754 95.5001,-46.1755 102.5,-46.1754\"/>\r\n",
       "<text text-anchor=\"middle\" x=\"106\" y=\"-57.8\" font-family=\"Times New Roman,serif\" font-size=\"14.00\">20</text>\r\n",
       "</g>\r\n",
       "</g>\r\n",
       "</svg>\r\n"
      ],
      "text/plain": [
       "<graphviz.dot.Digraph at 0x2ec94c5cac8>"
      ]
     },
     "execution_count": 4,
     "metadata": {},
     "output_type": "execute_result"
    }
   ],
   "source": [
    "neural2 = Digraph()\n",
    "\n",
    "neural2.node(\"X0\",\"X0\")\n",
    "neural2.node(\"X1\",\"X1\")\n",
    "neural2.node(\"X2\",\"X2\")\n",
    "neural2.node(\"i0\",\"i0\")\n",
    "neural2.node(\"i1\", \"i1\")\n",
    "neural2.node(\"i2\",\"i2\")\n",
    "neural2.node(\"output\",\"output\")\n",
    "\n",
    "neural2.edge(\"X0\",\"i1\", label=\"-30\")\n",
    "neural2.edge(\"X0\",\"i2\", label=\"10\")\n",
    "neural2.edge(\"X1\",\"i1\", label=\"20\")\n",
    "neural2.edge(\"X1\",\"i2\",label=\"-20\")\n",
    "neural2.edge(\"X2\",\"i1\", label=\"20\")\n",
    "neural2.edge(\"X2\",\"i2\",label=\"-20\")\n",
    "neural2.edge(\"i0\",\"output\",label=\"-10\")\n",
    "neural2.edge(\"i1\",\"output\",label=\"20\")\n",
    "neural2.edge(\"i2\",\"output\",label=\"20\")\n",
    "\n",
    "neural2"
   ]
  },
  {
   "cell_type": "code",
   "execution_count": 35,
   "metadata": {},
   "outputs": [
    {
     "data": {
      "text/html": [
       "<div>\n",
       "<style scoped>\n",
       "    .dataframe tbody tr th:only-of-type {\n",
       "        vertical-align: middle;\n",
       "    }\n",
       "\n",
       "    .dataframe tbody tr th {\n",
       "        vertical-align: top;\n",
       "    }\n",
       "\n",
       "    .dataframe thead th {\n",
       "        text-align: right;\n",
       "    }\n",
       "</style>\n",
       "<table border=\"1\" class=\"dataframe\">\n",
       "  <thead>\n",
       "    <tr style=\"text-align: right;\">\n",
       "      <th></th>\n",
       "      <th>X1</th>\n",
       "      <th>X2</th>\n",
       "      <th>i1</th>\n",
       "      <th>i2</th>\n",
       "      <th>output</th>\n",
       "    </tr>\n",
       "  </thead>\n",
       "  <tbody>\n",
       "    <tr>\n",
       "      <th>0</th>\n",
       "      <td>1</td>\n",
       "      <td>1</td>\n",
       "      <td>1</td>\n",
       "      <td>0</td>\n",
       "      <td>1</td>\n",
       "    </tr>\n",
       "    <tr>\n",
       "      <th>1</th>\n",
       "      <td>1</td>\n",
       "      <td>0</td>\n",
       "      <td>0</td>\n",
       "      <td>0</td>\n",
       "      <td>0</td>\n",
       "    </tr>\n",
       "    <tr>\n",
       "      <th>2</th>\n",
       "      <td>0</td>\n",
       "      <td>1</td>\n",
       "      <td>0</td>\n",
       "      <td>0</td>\n",
       "      <td>0</td>\n",
       "    </tr>\n",
       "    <tr>\n",
       "      <th>3</th>\n",
       "      <td>0</td>\n",
       "      <td>0</td>\n",
       "      <td>0</td>\n",
       "      <td>1</td>\n",
       "      <td>1</td>\n",
       "    </tr>\n",
       "  </tbody>\n",
       "</table>\n",
       "</div>"
      ],
      "text/plain": [
       "   X1  X2  i1  i2  output\n",
       "0   1   1   1   0       1\n",
       "1   1   0   0   0       0\n",
       "2   0   1   0   0       0\n",
       "3   0   0   0   1       1"
      ]
     },
     "execution_count": 35,
     "metadata": {},
     "output_type": "execute_result"
    }
   ],
   "source": [
    "import numpy as np\n",
    "import pandas as pd\n",
    "\n",
    "cols = [\"X1\", \"X2\", \"i1\", \"i2\", \"output\"]\n",
    "neu = np.array([[1,1,1,0,1],\n",
    "                 [1,0,0,0,0],\n",
    "                 [0,1,0,0,0],\n",
    "                 [0,0,0,1,1]])\n",
    "\n",
    "pd.DataFrame(neu, columns = cols)"
   ]
  },
  {
   "cell_type": "markdown",
   "metadata": {},
   "source": [
    "#### Backpropagation Algorithm\n",
    "\n",
    "Find the minimum of the cost function for neural networks.\n",
    "\n",
    "The cost function for a logistic regression (using MLE and remembering the logs turn multiplications to sums) is:\n",
    "\n",
    "$J(\\theta)=-\\frac{1}{m}[\\sum y_ilog(h_\\theta(x_i))+(1-y_i)log(1-h_\\theta(x_i))]$\n",
    "\n",
    "$\\frac{\\partial}{\\partial \\theta_j}=\\frac{1}{m}\\sum(h_\\theta(x_i)-y_i)x_i^j$"
   ]
  },
  {
   "cell_type": "markdown",
   "metadata": {},
   "source": [
    "#### Scaling Methods\n",
    "\n",
    "Simple Feature Scaling: $x=\\frac{x}{x_{max}}$\n",
    "\n",
    "Min-Max: $x=\\frac{x-x_{min}}{x_{max}-x_{min}}$\n",
    "\n",
    "Z-score: $x=\\frac{x-\\mu}{\\sigma}$"
   ]
  },
  {
   "cell_type": "markdown",
   "metadata": {},
   "source": [
    "##  Appendix\n",
    "\n",
    "### Useful functions"
   ]
  },
  {
   "cell_type": "code",
   "execution_count": 100,
   "metadata": {},
   "outputs": [
    {
     "name": "stdout",
     "output_type": "stream",
     "text": [
      "Goku is local\n",
      "Jiren is nonlocal\n",
      "Fibonacci 100 is: 354224848179261915075\n"
     ]
    }
   ],
   "source": [
    "# Reference variables outside a nested function with nonlocal\n",
    "\n",
    "def outer():\n",
    "    nlocal = \"Jiren is nonlocal\"\n",
    "    def inner():\n",
    "        loc = \"Goku is local\"\n",
    "        print(loc)\n",
    "        nonlocal nlocal\n",
    "        print(nlocal)\n",
    "    inner()\n",
    "    \n",
    "outer()\n",
    "\n",
    "#CACHE\n",
    "\n",
    "from functools import lru_cache\n",
    "\n",
    "@lru_cache(maxsize=None)\n",
    "def fib(n):\n",
    "    if n == 0: return 0\n",
    "    if n == 1: return 1\n",
    "    else: return fib(n-1)+fib(n-2)\n",
    "\n",
    "print(\"Fibonacci 100 is:\", fib(100))\n",
    "\n",
    "# Faster Fib\n",
    "def fib2(n):\n",
    "    a,b=0,1\n",
    "    i=1\n",
    "    while i<n:\n",
    "        a,b=b,a+b\n",
    "        i+=1\n",
    "    return b\n",
    "\n",
    "# ITERTOOLS\n",
    "\n",
    "import itertools\n",
    "iter1 = [1,2]\n",
    "iter2 = [3,4]\n",
    "itertools.chain(iter1, iter2) # will iter through iter1 and 2 in single sequence\n",
    "itertools.zip_longest([1,2],[3,4,5]) # [(1, 3), (2, 4), (None, 5)]\n",
    "itertools.product('ABC',repeat= 2) # [AA, AB, AC, BA, BB, BC, CA, CB, CC]\n",
    "\n",
    "# USEFUL FUNCTIONS\n",
    "\n",
    "sum(range(min(5, 10), max(5, 10) + 1)) # sum of numbers between [a,b]\n",
    "4 % 5 # modulus (remainder of 4/3 is 1)\n",
    "round(2.455,2) # 2.46\n",
    "lst = [True, True, True] \n",
    "# all[lst] # returns True (useful for multiple and conditions)\n",
    "\n",
    "import bisect\n",
    "bisect.bisect_right([3,66,89,100], 89) # easily find the index to split a sorted list log(n)\n",
    "\n",
    "# function(*args) → for variable number of arguments\n",
    "\n",
    "# FUNCTOOLS\n",
    "\n",
    "# map(function, list) → apply function to all elements in list (gives map object call list to visualize)\n",
    "# filter(lambda x: x < 0, number_list)\n",
    "\n",
    "# EXCEPTIONS\n",
    "\n",
    "for i in [1.1,2.2,3.3,\"a\",5.5]:\n",
    "    try:\n",
    "        i = int(i)\n",
    "    except ValueError:\n",
    "        pass\n",
    "\n",
    "# UNIT TESTS\n",
    "\n",
    "def circle_area(r):\n",
    "    if r <0:\n",
    "        raise ValueError(\"Input must be positive\")\n",
    "    return pi*r**2\n",
    "\n",
    "import unittest\n",
    "class test_circle(unittest.TestCase): \n",
    "    def test1(self):\n",
    "        self.assertAlmostEqual(circle_area(1), pi)\n",
    "    def test2(self):\n",
    "        self.assertRaises(ValueError, circle_area, -2)\n"
   ]
  },
  {
   "cell_type": "markdown",
   "metadata": {},
   "source": [
    "Given an array, find if two numbers (for distinct indices) are equal and if the absolute difference is bigger than k."
   ]
  },
  {
   "cell_type": "code",
   "execution_count": 26,
   "metadata": {},
   "outputs": [
    {
     "name": "stdout",
     "output_type": "stream",
     "text": [
      "[2, 9, 3, 14, 9, 4, 2, 13, 18, 18, 11, 11, 2, 6, 5]\n"
     ]
    },
    {
     "data": {
      "text/plain": [
       "True"
      ]
     },
     "execution_count": 26,
     "metadata": {},
     "output_type": "execute_result"
    }
   ],
   "source": [
    "import random\n",
    "\n",
    "def ayoo(array, k):\n",
    "    print(array)\n",
    "    aux = {}\n",
    "    for i,x in enumerate(array):\n",
    "        if x not in aux: aux[x]=i\n",
    "        elif i-aux[x]>k: return True\n",
    "    return False\n",
    "\n",
    "random.seed(123)\n",
    "ayoo([random.randint(1,20) for i in range(15)],3)\n"
   ]
  },
  {
   "cell_type": "markdown",
   "metadata": {},
   "source": [
    "### Sudoku Solver\n",
    "\n",
    "The idea is recursively solving it by backtracking if you fail to complete the puzzle. \n",
    "\n",
    "The intuition is:\n",
    "\n",
    "(1) Try a possible value in empty cell and replace.\n",
    "<br>\n",
    "(2) Call your function again with updated puzzle.\n",
    "<br>\n",
    "(3) If the function reaches an empty cell that cannot be filled by any number there is a mistake, so you backtrack to the previous layer and change the value to the next possible number. Additionally, this means that if all of the possible values have been looped through in this previous layer there is also a mistake, so it will backtrack again. This implies that correct values should never change because the puzzle will first be solved as opposed to finishing the loop of possible values.\n",
    "<br>\n",
    "(4) Continue the process until the puzzle has been filled, at which point you return the puzzle.\n"
   ]
  },
  {
   "cell_type": "code",
   "execution_count": 1,
   "metadata": {},
   "outputs": [
    {
     "name": "stdout",
     "output_type": "stream",
     "text": [
      "[[5 3 4 6 7 8 9 1 2]\n",
      " [6 7 2 1 9 5 3 4 8]\n",
      " [1 9 8 3 4 2 5 6 7]\n",
      " [8 5 9 7 6 1 4 2 3]\n",
      " [4 2 6 8 5 3 7 9 1]\n",
      " [7 1 3 9 2 4 8 5 6]\n",
      " [9 6 1 5 3 7 2 8 4]\n",
      " [2 8 7 4 1 9 6 3 5]\n",
      " [3 4 5 2 8 6 1 7 9]] heitor\n",
      "[[4 6 1 2 5 3 9 7 8]\n",
      " [3 5 9 6 7 8 4 1 2]\n",
      " [7 2 8 1 4 9 6 3 5]\n",
      " [5 8 6 3 2 4 7 9 1]\n",
      " [1 7 4 9 8 6 2 5 3]\n",
      " [2 9 3 7 1 5 8 4 6]\n",
      " [6 4 5 8 3 7 1 2 9]\n",
      " [9 1 7 5 6 2 3 8 4]\n",
      " [8 3 2 4 9 1 5 6 7]] heitor\n"
     ]
    },
    {
     "data": {
      "text/plain": [
       "[[4, 6, 1, 2, 5, 3, 9, 7, 8],\n",
       " [3, 5, 9, 6, 7, 8, 4, 1, 2],\n",
       " [7, 2, 8, 1, 4, 9, 6, 3, 5],\n",
       " [5, 8, 6, 3, 2, 4, 7, 9, 1],\n",
       " [1, 7, 4, 9, 8, 6, 2, 5, 3],\n",
       " [2, 9, 3, 7, 1, 5, 8, 4, 6],\n",
       " [6, 4, 5, 8, 3, 7, 1, 2, 9],\n",
       " [9, 1, 7, 5, 6, 2, 3, 8, 4],\n",
       " [8, 3, 2, 4, 9, 1, 5, 6, 7]]"
      ]
     },
     "execution_count": 1,
     "metadata": {},
     "output_type": "execute_result"
    }
   ],
   "source": [
    "#Sudoku\n",
    "\n",
    "import numpy as np\n",
    "\n",
    "puzzle = [[5,3,0,0,7,0,0,0,0],\n",
    "          [6,0,0,1,9,5,0,0,0],\n",
    "          [0,9,8,0,0,0,0,6,0],\n",
    "          [8,0,0,0,6,0,0,0,3],\n",
    "          [4,0,0,8,0,3,0,0,1],\n",
    "          [7,0,0,0,2,0,0,0,6],\n",
    "          [0,6,0,0,0,0,2,8,0],\n",
    "          [0,0,0,4,1,9,0,0,5],\n",
    "          [0,0,0,0,8,0,0,7,9]]\n",
    "\n",
    "puzzle2 =[[4,0,0,0,0,0,9,0,8],\n",
    "          [0,5,9,0,0,0,0,0,0],\n",
    "          [0,0,0,1,4,0,0,3,5],\n",
    "          [5,0,6,0,0,0,0,9,1],\n",
    "          [0,0,0,0,8,0,0,0,0],\n",
    "          [2,9,0,0,0,0,8,0,6],\n",
    "          [6,4,0,0,3,7,0,0,0],\n",
    "          [0,0,0,0,0,0,3,8,0],\n",
    "          [8,0,2,0,0,0,0,0,7]]\n",
    "\n",
    "\n",
    "def possible(puzzle,row,col,n):\n",
    "    if n in puzzle[row]: return False\n",
    "    if n in list(zip(*puzzle))[col]: return False\n",
    "    for i in range(3):\n",
    "        if n in puzzle[row//3*3+i][col//3*3:col//3*3+3]: return False\n",
    "    return True\n",
    "\n",
    "def sudoku(puzzle):\n",
    "    for row in range(9): \n",
    "        for col in range(9): #rows and cols\n",
    "            if puzzle[row][col] == 0:\n",
    "                for n in range(1,10): #1\n",
    "                    if possible(puzzle,row,col,n):\n",
    "                        puzzle[row][col]=n #if possible change the number\n",
    "                        out = sudoku(puzzle) # go to next layer\n",
    "                        if out: return puzzle\n",
    "                        puzzle[row][col]=0 #if you reach this line it means the assigned number didn't work in one of the next layers\n",
    "                                               #therefore, you set it to zero because the \"possible\" function might reject a potential possibility\n",
    "                                               #Notice that the depth doesn't matter because of the previous, it can be one nest level\n",
    "                                               #Above with no consequence\n",
    "                return #You return to the previous layer if all values have been tried, if loop (1) finishes it means a mistake so you backtrack\n",
    "    return True\n",
    "\n",
    "    \n",
    "\n",
    "sudoku(puzzle)\n",
    "sudoku(puzzle2)\n",
    "\n"
   ]
  },
  {
   "cell_type": "code",
   "execution_count": 152,
   "metadata": {},
   "outputs": [
    {
     "name": "stdout",
     "output_type": "stream",
     "text": [
      "K\n"
     ]
    },
    {
     "data": {
      "text/plain": [
       "'K'"
      ]
     },
     "execution_count": 152,
     "metadata": {},
     "output_type": "execute_result"
    }
   ],
   "source": [
    "def nest(array):\n",
    "    out = 0\n",
    "    def nested_return(array):\n",
    "        for elem in array:\n",
    "            if type(elem) is list:\n",
    "                nested_return(elem)\n",
    "            else:\n",
    "                if type(elem) is str:\n",
    "                    print(elem)\n",
    "                    nonlocal out\n",
    "                    out = str(elem)\n",
    "    nested_return(array)\n",
    "    return out\n",
    "        \n",
    "nest([[\"K\"],[[1]]])"
   ]
  },
  {
   "cell_type": "markdown",
   "metadata": {},
   "source": [
    "### Find Position of string\n",
    "\n",
    "There is a infinite string. You can imagine it's a combination of numbers from 1 to n, like this:\n",
    "\n",
    "\"123456789101112131415....n-2n-1n\"\n",
    "Please note: the length of the string is infinite. It depends on how long you need it(I can't offer it as a argument, it only exists in your imagination) ;-)\n",
    "\n",
    "Complete function findPosition that accept a digital string num. Returns the position(index) of the digital string(the first appearance).\n",
    "\n",
    "The basic idea is to check if string of length (1 to len(string)) follows a +1. You start with length 1 and work your way up. "
   ]
  },
  {
   "cell_type": "code",
   "execution_count": 158,
   "metadata": {},
   "outputs": [
    {
     "data": {
      "text/plain": [
       "(17179, 4)"
      ]
     },
     "execution_count": 158,
     "metadata": {},
     "output_type": "execute_result"
    }
   ],
   "source": [
    "class sum_str(str):\n",
    "    def sum_s(self,other):\n",
    "        a = self[::-1]\n",
    "        b = other[::-1]\n",
    "        max_lenab = max(len(a), len(b))\n",
    "        out = \"\"\n",
    "        add_on = 0\n",
    "        for digit in range(max_lenab):\n",
    "            try:\n",
    "                partial = str(int(a[digit])+int(b[digit])+add_on)\n",
    "            except IndexError:\n",
    "                if len(a) > len(b): partial = str(int(a[digit])+add_on)\n",
    "                else: partial = str(int(b[digit])+add_on)\n",
    "            if digit == max_lenab-1: out += partial[::-1]\n",
    "            else: out += partial[-1]\n",
    "            if len(partial) == 2: add_on = int(partial[0])\n",
    "            else: add_on = 0\n",
    "        return out[::-1]\n",
    "    \n",
    "\n",
    "def rec_aux(n,l=1,t9=False):\n",
    "    p, b, one = [], [], sum_str(\"1\")\n",
    "    if set(n) == set(\"0\") : return (int(\"1\"+n),0)\n",
    "    #There are l = length of output possibilities\n",
    "    for s in range(l):\n",
    "        out = True\n",
    "        #if s == 0 leave number = n input the same\n",
    "        #else you add the n[l-s:l] to n --> input CHECK THIS ONE FOR 9992000\n",
    "        if s > 0: \n",
    "            if set(n[0:l-s]) == set(\"9\"): \n",
    "                if n[l-s:l+1] == \"1\"+\"0\"*s: ni = \"9\"*s+str(n)\n",
    "                else: \n",
    "                    if int(n[l-s:l]) == 0: ni = \"0\"+str(n)\n",
    "                    else: ni = str(int(n[l-s:l])-1)+str(n)\n",
    "            else: ni = str(n[l-s:l])+str(n)\n",
    "            ex = len(str(n[l-s:l]))\n",
    "        else: ni, ex = n, 0\n",
    "        for d in range(0,len(ni)-l,l):\n",
    "            n1, n2 = ni[d:d+l], ni[d+l:d+2*l]\n",
    "            if d == 0: nf = n1\n",
    "            if set(n1) == set(\"9\"):\n",
    "                d2, t9 = d, True\n",
    "                break\n",
    "            if len(n1)>len(n2):\n",
    "                ap = n1[len(n2):len(n1)]\n",
    "                if set(ap) == set(\"9\"): n2 = n2+len(ap)*\"0\"\n",
    "                else: n2 = sum_str(n2+ap).sum_s(one)\n",
    "            if sum_str(n1).sum_s(one) == n2 and (sum_str(n1).sum_s(one)[0],n2[0]) != (\"0\",\"0\"):\n",
    "                continue\n",
    "            else:\n",
    "                out = False\n",
    "                break\n",
    "        if t9:\n",
    "            #You aren't putting out = False and because of length of input it doesn't go into loop, so it skips it\n",
    "            #Check length of input\n",
    "            l2 = l+1\n",
    "            if d2>=len(ni)-l2: \n",
    "                n1, n2 = ni[d2:d2+l], sum_str(n1).sum_s(one)\n",
    "                if ni[d2+l:len(ni)] != n2[0:len(ni)-d2-l]: out = False\n",
    "            else:\n",
    "                for d in range(d2,len(ni)-l,l2):\n",
    "                    if d == d2: n1,n2 = ni[d2:d2+l], ni[d2+l:d2+l+l2]\n",
    "                    else: n1,n2 = ni[d-1:d+l2-1], ni[d+l2-1:d+2*l2-1]\n",
    "                    if sum_str(n1).sum_s(one) == n2 and (sum_str(n1).sum_s(one)[0],n2[0]) != (\"0\",\"0\"):\n",
    "                        continue\n",
    "                    else:\n",
    "                        out = False\n",
    "                        break\n",
    "        if out: \n",
    "            try:\n",
    "                if nf[0] != \"0\": \n",
    "                    p.append((int(nf),ex))\n",
    "                    b.append(out)\n",
    "            except UnboundLocalError:\n",
    "                if ni[0] != \"0\":\n",
    "                    p.append((int(ni),ex))\n",
    "                    b.append(out)\n",
    "    if any(b): return min(p,key=lambda elem: elem[0])\n",
    "    return rec_aux(n,l+1)\n",
    "\n",
    "            \n",
    "def find_position(n):\n",
    "    f,ex = rec_aux(n)\n",
    "    m = len(str(f))\n",
    "    e = f - 10**(m-1)\n",
    "    p = sum((i+1)*9*10**i for i in range(m-1)) + e*m + ex\n",
    "    print(f,ex,n,p)\n",
    "    return p\n",
    "\n",
    "rec_aux(\"91718\") \n"
   ]
  },
  {
   "cell_type": "code",
   "execution_count": null,
   "metadata": {},
   "outputs": [],
   "source": []
  }
 ],
 "metadata": {
  "kernelspec": {
   "display_name": "Python 3",
   "language": "python",
   "name": "python3"
  },
  "language_info": {
   "codemirror_mode": {
    "name": "ipython",
    "version": 3
   },
   "file_extension": ".py",
   "mimetype": "text/x-python",
   "name": "python",
   "nbconvert_exporter": "python",
   "pygments_lexer": "ipython3",
   "version": "3.7.3"
  }
 },
 "nbformat": 4,
 "nbformat_minor": 2
}
